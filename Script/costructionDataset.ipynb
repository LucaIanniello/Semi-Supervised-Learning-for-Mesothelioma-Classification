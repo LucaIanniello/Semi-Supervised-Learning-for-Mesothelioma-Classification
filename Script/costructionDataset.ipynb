{
  "nbformat": 4,
  "nbformat_minor": 0,
  "metadata": {
    "colab": {
      "provenance": []
    },
    "kernelspec": {
      "name": "python3",
      "display_name": "Python 3"
    },
    "language_info": {
      "name": "python"
    }
  },
  "cells": [
    {
      "cell_type": "code",
      "execution_count": null,
      "metadata": {
        "colab": {
          "base_uri": "https://localhost:8080/"
        },
        "id": "Wgd_qK3cZ-Pt",
        "outputId": "8d61db1e-573f-492c-91ce-34517de070b2"
      },
      "outputs": [
        {
          "output_type": "stream",
          "name": "stdout",
          "text": [
            "--2025-05-29 14:22:00--  https://zenodo.org/records/15537133/files/resultsMLiA-20250528.zip?download=1\n",
            "Resolving zenodo.org (zenodo.org)... 188.185.48.194, 188.185.45.92, 188.185.43.25, ...\n",
            "Connecting to zenodo.org (zenodo.org)|188.185.48.194|:443... connected.\n",
            "HTTP request sent, awaiting response... 200 OK\n",
            "Length: 2010603874 (1.9G) [application/octet-stream]\n",
            "Saving to: ‘/content/Train.zip’\n",
            "\n",
            "/content/Train.zip  100%[===================>]   1.87G  4.18MB/s    in 7m 6s   \n",
            "\n",
            "2025-05-29 14:29:06 (4.50 MB/s) - ‘/content/Train.zip’ saved [2010603874/2010603874]\n",
            "\n",
            "Extracted files: ['resultsMLiA-20250528']\n"
          ]
        }
      ],
      "source": [
        "import os\n",
        "import zipfile\n",
        "\n",
        "# URL for the dataset\n",
        "url = \"https://zenodo.org/records/15537133/files/resultsMLiA-20250528.zip?download=1\"\n",
        "\n",
        "# Download the file using wget\n",
        "!wget -O /content/Train.zip \"$url\"\n",
        "\n",
        "# Define the extraction path\n",
        "extract_path = 'Train/'\n",
        "\n",
        "# Create the extraction directory if it doesn't exist\n",
        "os.makedirs(extract_path, exist_ok=True)\n",
        "\n",
        "# Extract the ZIP file\n",
        "with zipfile.ZipFile('./Train.zip', 'r') as zip_ref:\n",
        "    zip_ref.extractall(extract_path)\n",
        "\n",
        "# List the contents of the extracted folder\n",
        "extracted_files = os.listdir(extract_path)\n",
        "print(\"Extracted files:\", extracted_files)\n",
        "\n",
        "url_features_B = \"Train/resultsMLiA-20250528/resultsMLiA/results_features/results_features/FEATURES_DIRECTORY_12_B/pt_files/\"\n",
        "\n",
        "url_features_E = \"Train/resultsMLiA-20250528/resultsMLiA/results_features/results_features/FEATURES_DIRECTORY_12_E/pt_files/\"\n",
        "\n",
        "url_features_S = \"Train/resultsMLiA-20250528/resultsMLiA/results_features/results_features/FEATURES_DIRECTORY_12_S/pt_files/\"\n"
      ]
    },
    {
      "cell_type": "code",
      "source": [
        "import h5py\n",
        "import torch\n",
        "\n",
        "data_b = torch.load(url_features_B + 'M-1.pt')\n",
        "data_e = torch.load(url_features_E + 'M-1.pt')\n",
        "data_s = torch.load(url_features_S + 'M-1.pt')\n",
        "\n",
        "\n",
        "print(data_b.shape)\n",
        "print(data_e.shape)\n",
        "print(data_s.shape)\n"
      ],
      "metadata": {
        "colab": {
          "base_uri": "https://localhost:8080/"
        },
        "id": "NVXXllnDcCfl",
        "outputId": "66897ff5-f8d0-4a25-c25b-b90bcd84cf46"
      },
      "execution_count": null,
      "outputs": [
        {
          "output_type": "stream",
          "name": "stdout",
          "text": [
            "torch.Size([19043, 1024])\n"
          ]
        }
      ]
    },
    {
      "cell_type": "code",
      "source": [
        "import h5py\n",
        "import torch\n",
        "import os\n",
        "\n",
        "url_features_B = \"Train/resultsMLiA-20250528/resultsMLiA/results_features/results_features/FEATURES_DIRECTORY_12_B/pt_files/\"\n",
        "url_features_E = \"Train/resultsMLiA-20250528/resultsMLiA/results_features/results_features/FEATURES_DIRECTORY_12_E/pt_files/\"\n",
        "url_features_S = \"Train/resultsMLiA-20250528/resultsMLiA/results_features/results_features/FEATURES_DIRECTORY_12_S/pt_files/\"\n",
        "\n",
        "# Funzione per caricare tutti i file .pt da una directory\n",
        "def load_all_pt_files(directory_path):\n",
        "    pt_files = [f for f in os.listdir(directory_path) if f.endswith('.pt')]\n",
        "    data_dict = {}\n",
        "    for filename in pt_files:\n",
        "        file_path = os.path.join(directory_path, filename)\n",
        "        data_dict[filename] = torch.load(file_path)\n",
        "    return data_dict\n",
        "\n",
        "# Carica tutti i file .pt da ogni directory\n",
        "data_b_all = load_all_pt_files(url_features_B)\n",
        "data_e_all = load_all_pt_files(url_features_E)\n",
        "data_s_all = load_all_pt_files(url_features_S)\n",
        "\n",
        "\n",
        "# Stampa le forme di tutti i tensori\n",
        "print(\"Directory B:\")\n",
        "for filename, data in data_b_all.items():\n",
        "    print(f\"{filename}: {data.shape}\")\n",
        "\n",
        "print(\"\\nDirectory E:\")\n",
        "for filename, data in data_e_all.items():\n",
        "    print(f\"{filename}: {data.shape}\")\n",
        "\n",
        "print(\"\\nDirectory S:\")\n",
        "for filename, data in data_s_all.items():\n",
        "    print(f\"{filename}: {data.shape}\")\n"
      ],
      "metadata": {
        "colab": {
          "base_uri": "https://localhost:8080/"
        },
        "id": "52aQlzKHgGgZ",
        "outputId": "2c9e1838-c53b-45ce-acdb-fffc5cdfea23"
      },
      "execution_count": null,
      "outputs": [
        {
          "output_type": "stream",
          "name": "stdout",
          "text": [
            "Directory B:\n",
            "M-24.pt: torch.Size([10387, 1024])\n",
            "M-104.pt: torch.Size([3902, 1024])\n",
            "M-30.pt: torch.Size([17139, 1024])\n",
            "M-112.pt: torch.Size([9881, 1024])\n",
            "M-108.pt: torch.Size([29485, 1024])\n",
            "M-105.pt: torch.Size([3672, 1024])\n",
            "M-1.pt: torch.Size([19043, 1024])\n",
            "M-32.pt: torch.Size([13375, 1024])\n",
            "M-121.pt: torch.Size([3435, 1024])\n",
            "\n",
            "Directory E:\n",
            "M-103.pt: torch.Size([848, 1024])\n",
            "M-110.pt: torch.Size([779, 1024])\n",
            "M-113.pt: torch.Size([1145, 1024])\n",
            "M-100.pt: torch.Size([9542, 1024])\n",
            "M-111.pt: torch.Size([12220, 1024])\n",
            "M-10.pt: torch.Size([11222, 1024])\n",
            "M-11.pt: torch.Size([6238, 1024])\n",
            "M-109.pt: torch.Size([2906, 1024])\n",
            "\n",
            "Directory S:\n",
            "M-87.pt: torch.Size([60338, 1024])\n",
            "M-101.pt: torch.Size([6854, 1024])\n",
            "M-114.pt: torch.Size([26132, 1024])\n",
            "M-65.pt: torch.Size([6682, 1024])\n",
            "M-86.pt: torch.Size([14331, 1024])\n"
          ]
        }
      ]
    },
    {
      "cell_type": "code",
      "source": [
        "print(data_b_all['M-1.pt'].shape)"
      ],
      "metadata": {
        "colab": {
          "base_uri": "https://localhost:8080/"
        },
        "id": "4Nz1N_pDgYsk",
        "outputId": "01cfe4a3-86af-4ac0-c1ab-7d80881aa59e"
      },
      "execution_count": null,
      "outputs": [
        {
          "output_type": "stream",
          "name": "stdout",
          "text": [
            "torch.Size([19043, 1024])\n"
          ]
        }
      ]
    },
    {
      "cell_type": "code",
      "source": [
        "import torch\n",
        "import numpy as np\n",
        "\n",
        "mappa_chiavi = {}\n",
        "for i, chiave in enumerate(data_b_all.keys()):\n",
        "    nome_file = chiave.replace('.pt', '').replace('M-', '')\n",
        "    mappa_chiavi[chiave] = nome_file\n",
        "print(mappa_chiavi)\n",
        "\n",
        "lista_tensori = []\n",
        "for chiave, tensore in data_b_all.items():\n",
        "    chiave_num = mappa_chiavi[chiave]\n",
        "    chiave_num = int(chiave_num)\n",
        "    print(chiave_num)\n",
        "    colonna_chiave = torch.full((tensore.shape[0], 1), chiave_num, dtype=tensore.dtype)\n",
        "    colonna_zero = torch.zeros((tensore.shape[0], 1), dtype=tensore.dtype)\n",
        "    colonne_due_feature = torch.cat([colonna_chiave, colonna_zero], dim=1)\n",
        "    tensore_con_chiave = torch.cat([colonne_due_feature, tensore], dim=1)\n",
        "    lista_tensori.append(tensore_con_chiave)\n",
        "\n",
        "tensor_unito = torch.cat(lista_tensori, dim=0)\n",
        "\n",
        "print(f\"Forma finale: {tensor_unito.shape}\")\n",
        "print(tensor_unito[0][1])\n",
        "\n",
        "tensor_unito_b = tensor_unito\n"
      ],
      "metadata": {
        "colab": {
          "base_uri": "https://localhost:8080/"
        },
        "id": "w2zTigdVjoEm",
        "outputId": "38d4ab0f-a282-4f84-f57a-10cba25a03eb"
      },
      "execution_count": null,
      "outputs": [
        {
          "output_type": "stream",
          "name": "stdout",
          "text": [
            "{'M-24.pt': '24', 'M-104.pt': '104', 'M-30.pt': '30', 'M-112.pt': '112', 'M-108.pt': '108', 'M-105.pt': '105', 'M-1.pt': '1', 'M-32.pt': '32', 'M-121.pt': '121'}\n",
            "24\n",
            "104\n",
            "30\n",
            "112\n",
            "108\n",
            "105\n",
            "1\n",
            "32\n",
            "121\n",
            "Forma finale: torch.Size([110319, 1026])\n",
            "tensor(0.)\n"
          ]
        }
      ]
    },
    {
      "cell_type": "code",
      "source": [
        "import torch\n",
        "import numpy as np\n",
        "\n",
        "mappa_chiavi = {}\n",
        "for i, chiave in enumerate(data_s_all.keys()):\n",
        "    nome_file = chiave.replace('.pt', '').replace('M-', '')\n",
        "    mappa_chiavi[chiave] = nome_file\n",
        "print(mappa_chiavi)\n",
        "\n",
        "lista_tensori = []\n",
        "for chiave, tensore in data_s_all.items():\n",
        "    chiave_num = mappa_chiavi[chiave]\n",
        "    chiave_num = int(chiave_num)\n",
        "    print(chiave_num)\n",
        "    colonna_chiave = torch.full((tensore.shape[0], 1), chiave_num, dtype=tensore.dtype)\n",
        "    colonna_zero = torch.ones((tensore.shape[0], 1), dtype=tensore.dtype)\n",
        "    colonne_due_feature = torch.cat([colonna_chiave, colonna_zero], dim=1)\n",
        "    tensore_con_chiave = torch.cat([colonne_due_feature, tensore], dim=1)\n",
        "    lista_tensori.append(tensore_con_chiave)\n",
        "\n",
        "tensor_unito = torch.cat(lista_tensori, dim=0)\n",
        "\n",
        "print(f\"Forma finale: {tensor_unito.shape}\")\n",
        "print(tensor_unito[0][1])\n",
        "\n",
        "tensor_unito_s = tensor_unito\n"
      ],
      "metadata": {
        "colab": {
          "base_uri": "https://localhost:8080/"
        },
        "id": "sYpuvj4-pnmP",
        "outputId": "17cebdf1-4f24-40d2-c81c-25b817251c0b"
      },
      "execution_count": null,
      "outputs": [
        {
          "output_type": "stream",
          "name": "stdout",
          "text": [
            "{'M-87.pt': '87', 'M-101.pt': '101', 'M-114.pt': '114', 'M-65.pt': '65', 'M-86.pt': '86'}\n",
            "87\n",
            "101\n",
            "114\n",
            "65\n",
            "86\n",
            "Forma finale: torch.Size([114337, 1026])\n",
            "tensor(1.)\n"
          ]
        }
      ]
    },
    {
      "cell_type": "code",
      "source": [
        "import torch\n",
        "import numpy as np\n",
        "\n",
        "mappa_chiavi = {}\n",
        "for i, chiave in enumerate(data_e_all.keys()):\n",
        "    nome_file = chiave.replace('.pt', '').replace('M-', '')\n",
        "    mappa_chiavi[chiave] = nome_file\n",
        "print(mappa_chiavi)\n",
        "\n",
        "lista_tensori = []\n",
        "for chiave, tensore in data_e_all.items():\n",
        "    chiave_num = mappa_chiavi[chiave]\n",
        "    chiave_num = int(chiave_num)\n",
        "    print(chiave_num)\n",
        "    colonna_chiave = torch.full((tensore.shape[0], 1), chiave_num, dtype=tensore.dtype)\n",
        "    colonna_zero = torch.full((tensore.shape[0], 1), 2, dtype=tensore.dtype)\n",
        "    colonne_due_feature = torch.cat([colonna_chiave, colonna_zero], dim=1)\n",
        "    tensore_con_chiave = torch.cat([colonne_due_feature, tensore], dim=1)\n",
        "    lista_tensori.append(tensore_con_chiave)\n",
        "\n",
        "tensor_unito = torch.cat(lista_tensori, dim=0)\n",
        "\n",
        "print(f\"Forma finale: {tensor_unito.shape}\")\n",
        "print(tensor_unito[0][1])\n",
        "\n",
        "tensor_unito_e = tensor_unito\n"
      ],
      "metadata": {
        "colab": {
          "base_uri": "https://localhost:8080/"
        },
        "id": "JXdZssjVppbT",
        "outputId": "2c1799b2-8a83-42ae-e79f-7353c5b4bb8e"
      },
      "execution_count": null,
      "outputs": [
        {
          "output_type": "stream",
          "name": "stdout",
          "text": [
            "{'M-103.pt': '103', 'M-110.pt': '110', 'M-113.pt': '113', 'M-100.pt': '100', 'M-111.pt': '111', 'M-10.pt': '10', 'M-11.pt': '11', 'M-109.pt': '109'}\n",
            "103\n",
            "110\n",
            "113\n",
            "100\n",
            "111\n",
            "10\n",
            "11\n",
            "109\n",
            "Forma finale: torch.Size([44900, 1026])\n",
            "tensor(2.)\n"
          ]
        }
      ]
    },
    {
      "cell_type": "code",
      "source": [
        "print(tensor_unito_b.shape)\n",
        "print(tensor_unito_s.shape)\n",
        "print(tensor_unito_e.shape)\n",
        "\n",
        "print(tensor_unito_b[0][0])\n",
        "print(tensor_unito_s[0][0])\n",
        "print(tensor_unito_e[0][0])\n",
        "\n",
        "print(tensor_unito_b[0][1]) # label b = 0\n",
        "print(tensor_unito_s[0][1]) # label s = 1\n",
        "print(tensor_unito_e[0][1]) # label e = 2"
      ],
      "metadata": {
        "colab": {
          "base_uri": "https://localhost:8080/"
        },
        "id": "HV8NTlxWiKwI",
        "outputId": "b87625c4-4606-4d05-92ee-9ccb96212db0"
      },
      "execution_count": null,
      "outputs": [
        {
          "output_type": "stream",
          "name": "stdout",
          "text": [
            "torch.Size([110319, 1026])\n",
            "torch.Size([114337, 1026])\n",
            "torch.Size([44900, 1026])\n",
            "tensor(24.)\n",
            "tensor(87.)\n",
            "tensor(103.)\n",
            "tensor(0.)\n",
            "tensor(1.)\n",
            "tensor(2.)\n"
          ]
        }
      ]
    },
    {
      "cell_type": "code",
      "source": [
        "dataset  = torch.cat([tensor_unito_b, tensor_unito_s, tensor_unito_e], dim=0)\n",
        "print(dataset.shape)"
      ],
      "metadata": {
        "colab": {
          "base_uri": "https://localhost:8080/"
        },
        "id": "anprM06Lq_QO",
        "outputId": "52ce8102-8561-410f-9ef5-b6111bd06717"
      },
      "execution_count": null,
      "outputs": [
        {
          "output_type": "stream",
          "name": "stdout",
          "text": [
            "torch.Size([269556, 1026])\n"
          ]
        }
      ]
    },
    {
      "cell_type": "code",
      "source": [
        "import torch\n",
        "import requests\n",
        "import json\n",
        "import os\n",
        "\n",
        "# Salva il dataset\n",
        "torch.save(dataset, 'dataset.pt')\n",
        "\n",
        "# Token di accesso Zenodo (sostituisci con il tuo)\n",
        "ACCESS_TOKEN = 'uVSb7icJqT9efPM71KYgviJ50r7eML9ynei2q7hDkedVlFrf8fBsr9lFaJ3O'\n",
        "\n",
        "# Crea una nuova deposizione\n",
        "def create_deposition():\n",
        "    url = 'https://zenodo.org/api/deposit/depositions'\n",
        "    headers = {\"Content-Type\": \"application/json\"}\n",
        "    params = {'access_token': ACCESS_TOKEN}\n",
        "\n",
        "    data = {\n",
        "        'metadata': {\n",
        "            'title': 'DatasetMLiA',\n",
        "            'upload_type': 'dataset',\n",
        "            'description': 'Dataset concatenato con features multiple da WSI',\n",
        "            'creators': [{'name': 'Raf-Tony-Luca'}]\n",
        "        }\n",
        "    }\n",
        "\n",
        "    r = requests.post(url, params=params, data=json.dumps(data), headers=headers)\n",
        "    return r.json()\n",
        "\n",
        "# Carica il file\n",
        "def upload_file(deposition_id, file_path):\n",
        "    # Get bucket URL\n",
        "    url = f'https://zenodo.org/api/deposit/depositions/{deposition_id}'\n",
        "    params = {'access_token': ACCESS_TOKEN}\n",
        "    r = requests.get(url, params=params)\n",
        "    bucket_url = r.json()[\"links\"][\"bucket\"]\n",
        "\n",
        "    # Upload file\n",
        "    filename = os.path.basename(file_path)\n",
        "    with open(file_path, \"rb\") as fp:\n",
        "        r = requests.put(f\"{bucket_url}/{filename}\",\n",
        "                        data=fp,\n",
        "                        params=params)\n",
        "    return r.json()\n",
        "\n",
        "# Pubblica il dataset\n",
        "def publish_deposition(deposition_id):\n",
        "    url = f'https://zenodo.org/api/deposit/depositions/{deposition_id}/actions/publish'\n",
        "    params = {'access_token': ACCESS_TOKEN}\n",
        "    r = requests.post(url, params=params)\n",
        "    return r.json()\n",
        "\n",
        "# Esegui l'upload\n",
        "print(\"Creando deposizione...\")\n",
        "deposition = create_deposition()\n",
        "deposition_id = deposition['id']\n",
        "\n",
        "print(f\"Caricando file... (ID: {deposition_id})\")\n",
        "upload_result = upload_file(deposition_id, 'dataset.pt')\n",
        "\n",
        "print(\"Pubblicando dataset...\")\n",
        "publication = publish_deposition(deposition_id)\n",
        "\n",
        "print(f\"Dataset pubblicato! DOI: {publication['doi']}\")\n",
        "print(f\"URL: {publication['links']['record_html']}\")\n"
      ],
      "metadata": {
        "colab": {
          "base_uri": "https://localhost:8080/"
        },
        "id": "VSg8_BAcsbZa",
        "outputId": "da7a54d8-5bd7-433b-c3f3-3a91f3908783"
      },
      "execution_count": null,
      "outputs": [
        {
          "output_type": "stream",
          "name": "stdout",
          "text": [
            "Creando deposizione...\n",
            "Caricando file... (ID: 15546900)\n",
            "Pubblicando dataset...\n",
            "Dataset pubblicato! DOI: 10.5281/zenodo.15546900\n",
            "URL: https://zenodo.org/record/15546900\n"
          ]
        }
      ]
    },
    {
      "cell_type": "code",
      "source": [
        "url_results = \"Train/resultsMLiA-20250528/resultsMLiA/results/results/RESULTS_DIRECTORY_12_B\"\n",
        "\n",
        "with h5py.File(url_results + '/patches/M-1.h5', 'r') as f:\n",
        "    n_patches = f['coords'].shape[0]  # oppure f['coords'].shape[0]\n",
        "    print( f['coords'][0])\n",
        "    print(f\"Numero di patch: {n_patches}\")"
      ],
      "metadata": {
        "colab": {
          "base_uri": "https://localhost:8080/"
        },
        "id": "vpWtZRAQeMPW",
        "outputId": "f0585408-1e79-4dcf-b802-42f2dffba5c5"
      },
      "execution_count": null,
      "outputs": [
        {
          "output_type": "stream",
          "name": "stdout",
          "text": [
            "[30272 39680]\n",
            "Numero di patch: 19043\n"
          ]
        }
      ]
    },
    {
      "cell_type": "code",
      "source": [
        "B = [\n",
        "    \"M-1.ndpi\",\n",
        "    \"M-104.ndpi\",\"M-105.ndpi\",\"M-108.ndpi\",\n",
        "    \"M-112.ndpi\",\"M-121.ndpi\",\"M-24.ndpi\",\"M-30.ndpi\",\n",
        "    \"M-32.ndpi\"\n",
        "]\n",
        "E = [\n",
        "    \"M-10.ndpi\",\n",
        "    \"M-100.ndpi\",\"M-103.ndpi\",\"M-109.ndpi\",\"M-11.ndpi\",\"M-110.ndpi\",\n",
        "    \"M-111.ndpi\",\"M-113.ndpi\"\n",
        "]\n",
        "S = [\n",
        "    \"M-101.ndpi\",\n",
        "    \"M-114.ndpi\",\"M-65.ndpi\",\"M-86.ndpi\",\"M-87.ndpi\"\n",
        "]"
      ],
      "metadata": {
        "id": "MXEfzXlchfdu"
      },
      "execution_count": null,
      "outputs": []
    },
    {
      "cell_type": "code",
      "source": [
        "dataset_csv = []\n",
        "for i in range(len(B)):\n",
        "    v = B[i].split('.')[0]\n",
        "    dataset_csv.append([v,v,'B'])\n",
        "for i in range(len(S)):\n",
        "    v = S[i].split('.')[0]\n",
        "    dataset_csv.append([v,v,'S'])\n",
        "for i in range(len(E)):\n",
        "    v = E[i].split('.')[0]\n",
        "    dataset_csv.append([v,v,'E'])"
      ],
      "metadata": {
        "id": "Xg282dQSv9-v"
      },
      "execution_count": null,
      "outputs": []
    },
    {
      "cell_type": "code",
      "source": [
        "print(dataset_csv)\n",
        "print(len(dataset_csv))"
      ],
      "metadata": {
        "colab": {
          "base_uri": "https://localhost:8080/"
        },
        "id": "QqfQBln6wvlp",
        "outputId": "bd5b162c-99a6-4f72-9c8a-8c9b18e9e2e1"
      },
      "execution_count": null,
      "outputs": [
        {
          "output_type": "stream",
          "name": "stdout",
          "text": [
            "[['M-1', 'M-1', 'B'], ['M-104', 'M-104', 'B'], ['M-105', 'M-105', 'B'], ['M-108', 'M-108', 'B'], ['M-112', 'M-112', 'B'], ['M-121', 'M-121', 'B'], ['M-24', 'M-24', 'B'], ['M-30', 'M-30', 'B'], ['M-32', 'M-32', 'B'], ['M-101', 'M-101', 'S'], ['M-114', 'M-114', 'S'], ['M-65', 'M-65', 'S'], ['M-86', 'M-86', 'S'], ['M-87', 'M-87', 'S'], ['M-10', 'M-10', 'E'], ['M-100', 'M-100', 'E'], ['M-103', 'M-103', 'E'], ['M-109', 'M-109', 'E'], ['M-11', 'M-11', 'E'], ['M-110', 'M-110', 'E'], ['M-111', 'M-111', 'E'], ['M-113', 'M-113', 'E']]\n",
            "22\n"
          ]
        }
      ]
    },
    {
      "cell_type": "code",
      "source": [
        "import csv\n",
        "# Nome del file CSV\n",
        "file_csv = 'dataset.csv'\n",
        "\n",
        "# Scrittura del file CSV\n",
        "with open(file_csv, mode='w', newline='') as file:\n",
        "    writer = csv.writer(file)\n",
        "    # Scrivere l'intestazione\n",
        "    writer.writerow(['case_id', 'slide_id', 'label'])\n",
        "    # Scrivere i dati\n",
        "    writer.writerows(dataset_csv)\n",
        "\n",
        "print(f\"File CSV salvato: {file_csv}\")"
      ],
      "metadata": {
        "colab": {
          "base_uri": "https://localhost:8080/"
        },
        "id": "n7-l2lYfyenC",
        "outputId": "545784fe-de05-4abe-af33-1d38cf7d11f2"
      },
      "execution_count": null,
      "outputs": [
        {
          "output_type": "stream",
          "name": "stdout",
          "text": [
            "File CSV salvato: dataset.csv\n"
          ]
        }
      ]
    },
    {
      "cell_type": "code",
      "source": [
        "import torch\n",
        "import requests\n",
        "import json\n",
        "import os\n",
        "\n",
        "\n",
        "# Token di accesso Zenodo (sostituisci con il tuo)\n",
        "ACCESS_TOKEN = 'uVSb7icJqT9efPM71KYgviJ50r7eML9ynei2q7hDkedVlFrf8fBsr9lFaJ3O'\n",
        "\n",
        "# Crea una nuova deposizione\n",
        "def create_deposition():\n",
        "    url = 'https://zenodo.org/api/deposit/depositions'\n",
        "    headers = {\"Content-Type\": \"application/json\"}\n",
        "    params = {'access_token': ACCESS_TOKEN}\n",
        "\n",
        "    data = {\n",
        "        'metadata': {\n",
        "            'title': 'DatasetCsv_MLiA-CLAM',\n",
        "            'upload_type': 'dataset',\n",
        "            'description': 'Dataset csv dataset',\n",
        "            'creators': [{'name': 'Raf-Tony-Luca'}]\n",
        "        }\n",
        "    }\n",
        "\n",
        "    r = requests.post(url, params=params, data=json.dumps(data), headers=headers)\n",
        "    return r.json()\n",
        "\n",
        "# Carica il file\n",
        "def upload_file(deposition_id, file_path):\n",
        "    # Get bucket URL\n",
        "    url = f'https://zenodo.org/api/deposit/depositions/{deposition_id}'\n",
        "    params = {'access_token': ACCESS_TOKEN}\n",
        "    r = requests.get(url, params=params)\n",
        "    bucket_url = r.json()[\"links\"][\"bucket\"]\n",
        "\n",
        "    # Upload file\n",
        "    filename = os.path.basename(file_path)\n",
        "    with open(file_path, \"rb\") as fp:\n",
        "        r = requests.put(f\"{bucket_url}/{filename}\",\n",
        "                        data=fp,\n",
        "                        params=params)\n",
        "    return r.json()\n",
        "\n",
        "# Pubblica il dataset\n",
        "def publish_deposition(deposition_id):\n",
        "    url = f'https://zenodo.org/api/deposit/depositions/{deposition_id}/actions/publish'\n",
        "    params = {'access_token': ACCESS_TOKEN}\n",
        "    r = requests.post(url, params=params)\n",
        "    return r.json()\n",
        "\n",
        "# Esegui l'upload\n",
        "print(\"Creando deposizione...\")\n",
        "deposition = create_deposition()\n",
        "deposition_id = deposition['id']\n",
        "\n",
        "print(f\"Caricando file... (ID: {deposition_id})\")\n",
        "upload_result = upload_file(deposition_id, 'dataset.csv')\n",
        "\n",
        "print(\"Pubblicando dataset...\")\n",
        "publication = publish_deposition(deposition_id)\n",
        "\n",
        "print(f\"Dataset pubblicato! DOI: {publication['doi']}\")\n",
        "print(f\"URL: {publication['links']['record_html']}\")\n"
      ],
      "metadata": {
        "colab": {
          "base_uri": "https://localhost:8080/"
        },
        "id": "ft41CboexPgy",
        "outputId": "a1aba33b-3a38-4f72-fda9-46fef3251d18"
      },
      "execution_count": null,
      "outputs": [
        {
          "output_type": "stream",
          "name": "stdout",
          "text": [
            "Creando deposizione...\n",
            "Caricando file... (ID: 15547265)\n",
            "Pubblicando dataset...\n",
            "Dataset pubblicato! DOI: 10.5281/zenodo.15547265\n",
            "URL: https://zenodo.org/record/15547265\n"
          ]
        }
      ]
    },
    {
      "cell_type": "code",
      "source": [
        "\n",
        "url_features_B = \"Train/resultsMLiA-20250528/resultsMLiA/results_features/results_features\"\n",
        "\n",
        "url_features_E = \"Train/resultsMLiA-20250528/resultsMLiA/results_features/results_features\"\n",
        "\n",
        "url_features_S = \"Train/resultsMLiA-20250528/resultsMLiA/results_features/results_features\"\n"
      ],
      "metadata": {
        "id": "YSdO0R1b1nZZ"
      },
      "execution_count": null,
      "outputs": []
    },
    {
      "cell_type": "code",
      "source": [
        "!cp -r ur \"Train/resultsMLiA-20250528/resultsMLiA/results_features/results_features\" ."
      ],
      "metadata": {
        "colab": {
          "base_uri": "https://localhost:8080/"
        },
        "id": "jS96mXo31PwY",
        "outputId": "19bd736c-771f-45b9-ffad-18232092cc3a"
      },
      "execution_count": null,
      "outputs": [
        {
          "output_type": "stream",
          "name": "stdout",
          "text": [
            "cp: cannot stat 'ur': No such file or directory\n"
          ]
        }
      ]
    },
    {
      "cell_type": "code",
      "source": [
        "!cp -r ur \"Train/resultsMLiA-20250528/resultsMLiA/results/results\" ."
      ],
      "metadata": {
        "colab": {
          "base_uri": "https://localhost:8080/"
        },
        "id": "u-LrNYiE2wpt",
        "outputId": "b409d35c-0cb8-4988-e26b-a6f75cc7aa3e"
      },
      "execution_count": null,
      "outputs": [
        {
          "output_type": "stream",
          "name": "stdout",
          "text": [
            "cp: cannot stat 'ur': No such file or directory\n"
          ]
        }
      ]
    },
    {
      "cell_type": "code",
      "source": [
        "# Crea un archivio ZIP della cartella\n",
        "def create_zip_archive(folder_path, zip_name=None):\n",
        "    \"\"\"\n",
        "    Crea un archivio ZIP di una cartella mantenendo la struttura\n",
        "    \"\"\"\n",
        "    if zip_name is None:\n",
        "        zip_name = f\"{os.path.basename(folder_path)}.zip\"\n",
        "\n",
        "    print(f\"🗜️ Creando archivio ZIP: {zip_name}\")\n",
        "\n",
        "    with zipfile.ZipFile(zip_name, 'w', zipfile.ZIP_DEFLATED) as zipf:\n",
        "        for root, dirs, files in os.walk(folder_path):\n",
        "            for file in files:\n",
        "                file_path = os.path.join(root, file)\n",
        "                # Mantiene la struttura delle cartelle nell'archivio\n",
        "                arc_name = os.path.relpath(file_path, os.path.dirname(folder_path))\n",
        "                zipf.write(file_path, arc_name)\n",
        "                print(f\"  📁 Aggiunto: {arc_name}\")\n",
        "\n",
        "    # Mostra dimensione dell'archivio\n",
        "    zip_size = os.path.getsize(zip_name)\n",
        "    print(f\"✅ Archivio creato: {zip_name} ({zip_size/1024/1024:.2f} MB)\")\n",
        "    return zip_name"
      ],
      "metadata": {
        "id": "t2bA9jK53uoF"
      },
      "execution_count": null,
      "outputs": []
    },
    {
      "cell_type": "code",
      "source": [
        "# Percorso della cartella da caricare\n",
        "folder_to_upload = '/content/resultsMLiA'  # Cambia con il percorso della tua cartella\n",
        "zip_filename = 'datasetMLiA-CLAM.zip'  # Nome dell'archivio\n",
        "zip_path = create_zip_archive(folder_to_upload, zip_filename)\n"
      ],
      "metadata": {
        "colab": {
          "base_uri": "https://localhost:8080/"
        },
        "id": "WDLqxe1Z4YOJ",
        "outputId": "96f4ea55-4753-4d83-8f42-ea86b2e26bcb"
      },
      "execution_count": null,
      "outputs": [
        {
          "output_type": "stream",
          "name": "stdout",
          "text": [
            "🗜️ Creando archivio ZIP: datasetMLiA-CLAM.zip\n",
            "  📁 Aggiunto: resultsMLiA/results_patches/RESULTS_DIRECTORY_12_E/process_list_autogen.csv\n",
            "  📁 Aggiunto: resultsMLiA/results_patches/RESULTS_DIRECTORY_12_E/stitches/M-11.jpg\n",
            "  📁 Aggiunto: resultsMLiA/results_patches/RESULTS_DIRECTORY_12_E/stitches/M-113.jpg\n",
            "  📁 Aggiunto: resultsMLiA/results_patches/RESULTS_DIRECTORY_12_E/stitches/M-10.jpg\n",
            "  📁 Aggiunto: resultsMLiA/results_patches/RESULTS_DIRECTORY_12_E/stitches/M-109.jpg\n",
            "  📁 Aggiunto: resultsMLiA/results_patches/RESULTS_DIRECTORY_12_E/stitches/M-103.jpg\n",
            "  📁 Aggiunto: resultsMLiA/results_patches/RESULTS_DIRECTORY_12_E/stitches/M-100.jpg\n",
            "  📁 Aggiunto: resultsMLiA/results_patches/RESULTS_DIRECTORY_12_E/stitches/M-110.jpg\n",
            "  📁 Aggiunto: resultsMLiA/results_patches/RESULTS_DIRECTORY_12_E/stitches/M-111.jpg\n",
            "  📁 Aggiunto: resultsMLiA/results_patches/RESULTS_DIRECTORY_12_E/masks/M-11.jpg\n",
            "  📁 Aggiunto: resultsMLiA/results_patches/RESULTS_DIRECTORY_12_E/masks/M-113.jpg\n",
            "  📁 Aggiunto: resultsMLiA/results_patches/RESULTS_DIRECTORY_12_E/masks/M-10.jpg\n",
            "  📁 Aggiunto: resultsMLiA/results_patches/RESULTS_DIRECTORY_12_E/masks/M-109.jpg\n",
            "  📁 Aggiunto: resultsMLiA/results_patches/RESULTS_DIRECTORY_12_E/masks/M-103.jpg\n",
            "  📁 Aggiunto: resultsMLiA/results_patches/RESULTS_DIRECTORY_12_E/masks/M-100.jpg\n",
            "  📁 Aggiunto: resultsMLiA/results_patches/RESULTS_DIRECTORY_12_E/masks/M-110.jpg\n",
            "  📁 Aggiunto: resultsMLiA/results_patches/RESULTS_DIRECTORY_12_E/masks/M-111.jpg\n",
            "  📁 Aggiunto: resultsMLiA/results_patches/RESULTS_DIRECTORY_12_E/patches/M-100.h5\n",
            "  📁 Aggiunto: resultsMLiA/results_patches/RESULTS_DIRECTORY_12_E/patches/M-109.h5\n",
            "  📁 Aggiunto: resultsMLiA/results_patches/RESULTS_DIRECTORY_12_E/patches/M-11.h5\n",
            "  📁 Aggiunto: resultsMLiA/results_patches/RESULTS_DIRECTORY_12_E/patches/M-103.h5\n",
            "  📁 Aggiunto: resultsMLiA/results_patches/RESULTS_DIRECTORY_12_E/patches/M-10.h5\n",
            "  📁 Aggiunto: resultsMLiA/results_patches/RESULTS_DIRECTORY_12_E/patches/M-113.h5\n",
            "  📁 Aggiunto: resultsMLiA/results_patches/RESULTS_DIRECTORY_12_E/patches/M-110.h5\n",
            "  📁 Aggiunto: resultsMLiA/results_patches/RESULTS_DIRECTORY_12_E/patches/M-111.h5\n",
            "  📁 Aggiunto: resultsMLiA/results_patches/RESULTS_DIRECTORY_12_B/process_list_autogen.csv\n",
            "  📁 Aggiunto: resultsMLiA/results_patches/RESULTS_DIRECTORY_12_B/stitches/M-108.jpg\n",
            "  📁 Aggiunto: resultsMLiA/results_patches/RESULTS_DIRECTORY_12_B/stitches/M-121.jpg\n",
            "  📁 Aggiunto: resultsMLiA/results_patches/RESULTS_DIRECTORY_12_B/stitches/M-30.jpg\n",
            "  📁 Aggiunto: resultsMLiA/results_patches/RESULTS_DIRECTORY_12_B/stitches/M-105.jpg\n",
            "  📁 Aggiunto: resultsMLiA/results_patches/RESULTS_DIRECTORY_12_B/stitches/M-1.jpg\n",
            "  📁 Aggiunto: resultsMLiA/results_patches/RESULTS_DIRECTORY_12_B/stitches/M-112.jpg\n",
            "  📁 Aggiunto: resultsMLiA/results_patches/RESULTS_DIRECTORY_12_B/stitches/M-104.jpg\n",
            "  📁 Aggiunto: resultsMLiA/results_patches/RESULTS_DIRECTORY_12_B/stitches/M-32.jpg\n",
            "  📁 Aggiunto: resultsMLiA/results_patches/RESULTS_DIRECTORY_12_B/stitches/M-24.jpg\n",
            "  📁 Aggiunto: resultsMLiA/results_patches/RESULTS_DIRECTORY_12_B/masks/M-108.jpg\n",
            "  📁 Aggiunto: resultsMLiA/results_patches/RESULTS_DIRECTORY_12_B/masks/M-121.jpg\n",
            "  📁 Aggiunto: resultsMLiA/results_patches/RESULTS_DIRECTORY_12_B/masks/M-30.jpg\n",
            "  📁 Aggiunto: resultsMLiA/results_patches/RESULTS_DIRECTORY_12_B/masks/M-105.jpg\n",
            "  📁 Aggiunto: resultsMLiA/results_patches/RESULTS_DIRECTORY_12_B/masks/M-1.jpg\n",
            "  📁 Aggiunto: resultsMLiA/results_patches/RESULTS_DIRECTORY_12_B/masks/M-112.jpg\n",
            "  📁 Aggiunto: resultsMLiA/results_patches/RESULTS_DIRECTORY_12_B/masks/M-104.jpg\n",
            "  📁 Aggiunto: resultsMLiA/results_patches/RESULTS_DIRECTORY_12_B/masks/M-32.jpg\n",
            "  📁 Aggiunto: resultsMLiA/results_patches/RESULTS_DIRECTORY_12_B/masks/M-24.jpg\n",
            "  📁 Aggiunto: resultsMLiA/results_patches/RESULTS_DIRECTORY_12_B/patches/M-112.h5\n",
            "  📁 Aggiunto: resultsMLiA/results_patches/RESULTS_DIRECTORY_12_B/patches/M-108.h5\n",
            "  📁 Aggiunto: resultsMLiA/results_patches/RESULTS_DIRECTORY_12_B/patches/M-1.h5\n",
            "  📁 Aggiunto: resultsMLiA/results_patches/RESULTS_DIRECTORY_12_B/patches/M-30.h5\n",
            "  📁 Aggiunto: resultsMLiA/results_patches/RESULTS_DIRECTORY_12_B/patches/M-32.h5\n",
            "  📁 Aggiunto: resultsMLiA/results_patches/RESULTS_DIRECTORY_12_B/patches/M-121.h5\n",
            "  📁 Aggiunto: resultsMLiA/results_patches/RESULTS_DIRECTORY_12_B/patches/M-105.h5\n",
            "  📁 Aggiunto: resultsMLiA/results_patches/RESULTS_DIRECTORY_12_B/patches/M-104.h5\n",
            "  📁 Aggiunto: resultsMLiA/results_patches/RESULTS_DIRECTORY_12_B/patches/M-24.h5\n",
            "  📁 Aggiunto: resultsMLiA/results_patches/RESULTS_DIRECTORY_12_S/process_list_autogen.csv\n",
            "  📁 Aggiunto: resultsMLiA/results_patches/RESULTS_DIRECTORY_12_S/stitches/M-87.jpg\n",
            "  📁 Aggiunto: resultsMLiA/results_patches/RESULTS_DIRECTORY_12_S/stitches/M-101.jpg\n",
            "  📁 Aggiunto: resultsMLiA/results_patches/RESULTS_DIRECTORY_12_S/stitches/M-86.jpg\n",
            "  📁 Aggiunto: resultsMLiA/results_patches/RESULTS_DIRECTORY_12_S/stitches/M-114.jpg\n",
            "  📁 Aggiunto: resultsMLiA/results_patches/RESULTS_DIRECTORY_12_S/stitches/M-65.jpg\n",
            "  📁 Aggiunto: resultsMLiA/results_patches/RESULTS_DIRECTORY_12_S/masks/M-87.jpg\n",
            "  📁 Aggiunto: resultsMLiA/results_patches/RESULTS_DIRECTORY_12_S/masks/M-101.jpg\n",
            "  📁 Aggiunto: resultsMLiA/results_patches/RESULTS_DIRECTORY_12_S/masks/M-86.jpg\n",
            "  📁 Aggiunto: resultsMLiA/results_patches/RESULTS_DIRECTORY_12_S/masks/M-114.jpg\n",
            "  📁 Aggiunto: resultsMLiA/results_patches/RESULTS_DIRECTORY_12_S/masks/M-65.jpg\n",
            "  📁 Aggiunto: resultsMLiA/results_patches/RESULTS_DIRECTORY_12_S/patches/M-101.h5\n",
            "  📁 Aggiunto: resultsMLiA/results_patches/RESULTS_DIRECTORY_12_S/patches/M-87.h5\n",
            "  📁 Aggiunto: resultsMLiA/results_patches/RESULTS_DIRECTORY_12_S/patches/M-114.h5\n",
            "  📁 Aggiunto: resultsMLiA/results_patches/RESULTS_DIRECTORY_12_S/patches/M-65.h5\n",
            "  📁 Aggiunto: resultsMLiA/results_patches/RESULTS_DIRECTORY_12_S/patches/M-86.h5\n",
            "  📁 Aggiunto: resultsMLiA/results_features/FEATURES_DIRECTORY_12_B/h5_files/M-112.h5\n",
            "  📁 Aggiunto: resultsMLiA/results_features/FEATURES_DIRECTORY_12_B/h5_files/M-108.h5\n",
            "  📁 Aggiunto: resultsMLiA/results_features/FEATURES_DIRECTORY_12_B/h5_files/M-1.h5\n",
            "  📁 Aggiunto: resultsMLiA/results_features/FEATURES_DIRECTORY_12_B/h5_files/M-30.h5\n",
            "  📁 Aggiunto: resultsMLiA/results_features/FEATURES_DIRECTORY_12_B/h5_files/M-32.h5\n",
            "  📁 Aggiunto: resultsMLiA/results_features/FEATURES_DIRECTORY_12_B/h5_files/M-121.h5\n",
            "  📁 Aggiunto: resultsMLiA/results_features/FEATURES_DIRECTORY_12_B/h5_files/M-105.h5\n",
            "  📁 Aggiunto: resultsMLiA/results_features/FEATURES_DIRECTORY_12_B/h5_files/M-104.h5\n",
            "  📁 Aggiunto: resultsMLiA/results_features/FEATURES_DIRECTORY_12_B/h5_files/M-24.h5\n",
            "  📁 Aggiunto: resultsMLiA/results_features/FEATURES_DIRECTORY_12_B/pt_files/M-24.pt\n",
            "  📁 Aggiunto: resultsMLiA/results_features/FEATURES_DIRECTORY_12_B/pt_files/M-104.pt\n",
            "  📁 Aggiunto: resultsMLiA/results_features/FEATURES_DIRECTORY_12_B/pt_files/M-30.pt\n",
            "  📁 Aggiunto: resultsMLiA/results_features/FEATURES_DIRECTORY_12_B/pt_files/M-112.pt\n",
            "  📁 Aggiunto: resultsMLiA/results_features/FEATURES_DIRECTORY_12_B/pt_files/M-108.pt\n",
            "  📁 Aggiunto: resultsMLiA/results_features/FEATURES_DIRECTORY_12_B/pt_files/M-105.pt\n",
            "  📁 Aggiunto: resultsMLiA/results_features/FEATURES_DIRECTORY_12_B/pt_files/M-1.pt\n",
            "  📁 Aggiunto: resultsMLiA/results_features/FEATURES_DIRECTORY_12_B/pt_files/M-32.pt\n",
            "  📁 Aggiunto: resultsMLiA/results_features/FEATURES_DIRECTORY_12_B/pt_files/M-121.pt\n",
            "  📁 Aggiunto: resultsMLiA/results_features/FEATURES_DIRECTORY_12_S/h5_files/M-101.h5\n",
            "  📁 Aggiunto: resultsMLiA/results_features/FEATURES_DIRECTORY_12_S/h5_files/M-87.h5\n",
            "  📁 Aggiunto: resultsMLiA/results_features/FEATURES_DIRECTORY_12_S/h5_files/M-114.h5\n",
            "  📁 Aggiunto: resultsMLiA/results_features/FEATURES_DIRECTORY_12_S/h5_files/M-65.h5\n",
            "  📁 Aggiunto: resultsMLiA/results_features/FEATURES_DIRECTORY_12_S/h5_files/M-86.h5\n",
            "  📁 Aggiunto: resultsMLiA/results_features/FEATURES_DIRECTORY_12_S/pt_files/M-87.pt\n",
            "  📁 Aggiunto: resultsMLiA/results_features/FEATURES_DIRECTORY_12_S/pt_files/M-101.pt\n",
            "  📁 Aggiunto: resultsMLiA/results_features/FEATURES_DIRECTORY_12_S/pt_files/M-114.pt\n",
            "  📁 Aggiunto: resultsMLiA/results_features/FEATURES_DIRECTORY_12_S/pt_files/M-65.pt\n",
            "  📁 Aggiunto: resultsMLiA/results_features/FEATURES_DIRECTORY_12_S/pt_files/M-86.pt\n",
            "  📁 Aggiunto: resultsMLiA/results_features/FEATURES_DIRECTORY_12_E/h5_files/M-100.h5\n",
            "  📁 Aggiunto: resultsMLiA/results_features/FEATURES_DIRECTORY_12_E/h5_files/M-109.h5\n",
            "  📁 Aggiunto: resultsMLiA/results_features/FEATURES_DIRECTORY_12_E/h5_files/M-11.h5\n",
            "  📁 Aggiunto: resultsMLiA/results_features/FEATURES_DIRECTORY_12_E/h5_files/M-103.h5\n",
            "  📁 Aggiunto: resultsMLiA/results_features/FEATURES_DIRECTORY_12_E/h5_files/M-10.h5\n",
            "  📁 Aggiunto: resultsMLiA/results_features/FEATURES_DIRECTORY_12_E/h5_files/M-113.h5\n",
            "  📁 Aggiunto: resultsMLiA/results_features/FEATURES_DIRECTORY_12_E/h5_files/M-110.h5\n",
            "  📁 Aggiunto: resultsMLiA/results_features/FEATURES_DIRECTORY_12_E/h5_files/M-111.h5\n",
            "  📁 Aggiunto: resultsMLiA/results_features/FEATURES_DIRECTORY_12_E/pt_files/M-103.pt\n",
            "  📁 Aggiunto: resultsMLiA/results_features/FEATURES_DIRECTORY_12_E/pt_files/M-110.pt\n",
            "  📁 Aggiunto: resultsMLiA/results_features/FEATURES_DIRECTORY_12_E/pt_files/M-113.pt\n",
            "  📁 Aggiunto: resultsMLiA/results_features/FEATURES_DIRECTORY_12_E/pt_files/M-100.pt\n",
            "  📁 Aggiunto: resultsMLiA/results_features/FEATURES_DIRECTORY_12_E/pt_files/M-111.pt\n",
            "  📁 Aggiunto: resultsMLiA/results_features/FEATURES_DIRECTORY_12_E/pt_files/M-10.pt\n",
            "  📁 Aggiunto: resultsMLiA/results_features/FEATURES_DIRECTORY_12_E/pt_files/M-11.pt\n",
            "  📁 Aggiunto: resultsMLiA/results_features/FEATURES_DIRECTORY_12_E/pt_files/M-109.pt\n",
            "✅ Archivio creato: datasetMLiA-CLAM.zip (1917.43 MB)\n"
          ]
        }
      ]
    },
    {
      "cell_type": "code",
      "source": [
        "# Esegui l'upload\n",
        "print(\"Creando deposizione...\")\n",
        "deposition = create_deposition()\n",
        "deposition_id = deposition['id']\n",
        "\n",
        "print(f\"Caricando file... (ID: {deposition_id})\")\n",
        "upload_result = upload_file(deposition_id, zip_filename)\n",
        "\n",
        "print(\"Pubblicando dataset...\")\n",
        "publication = publish_deposition(deposition_id)\n",
        "\n",
        "print(f\"Dataset pubblicato! DOI: {publication['doi']}\")\n",
        "print(f\"URL: {publication['links']['record_html']}\")"
      ],
      "metadata": {
        "colab": {
          "base_uri": "https://localhost:8080/"
        },
        "id": "hoi4uyG74na_",
        "outputId": "d789bc07-ceec-4dbf-f689-6eee42607c6c"
      },
      "execution_count": null,
      "outputs": [
        {
          "output_type": "stream",
          "name": "stdout",
          "text": [
            "Creando deposizione...\n",
            "Caricando file... (ID: 15547240)\n",
            "Pubblicando dataset...\n",
            "Dataset pubblicato! DOI: 10.5281/zenodo.15547240\n",
            "URL: https://zenodo.org/record/15547240\n"
          ]
        }
      ]
    }
  ]
}