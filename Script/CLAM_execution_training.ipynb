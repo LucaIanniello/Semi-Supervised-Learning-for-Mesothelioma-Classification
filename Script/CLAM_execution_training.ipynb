{
 "cells": [
  {
   "cell_type": "code",
   "execution_count": null,
   "id": "fd422ed8",
   "metadata": {},
   "outputs": [],
   "source": [
    "from pydrive.auth import GoogleAuth\n",
    "from pydrive.drive import GoogleDrive\n",
    "from oauth2client.client import GoogleCredentials\n",
    "import os\n",
    "import matplotlib.pyplot as plt\n",
    "import torch"
   ]
  },
  {
   "cell_type": "code",
   "execution_count": null,
   "id": "f9bdc33a",
   "metadata": {},
   "outputs": [],
   "source": [
    "!git clone https://github.com/LucaIanniello/MLIAProject.git"
   ]
  },
  {
   "cell_type": "code",
   "execution_count": null,
   "id": "3dd873af",
   "metadata": {},
   "outputs": [],
   "source": [
    "!pip install -q condacolab\n",
    "import condacolab\n",
    "condacolab.install()\n",
    "\n",
    "!conda env create -f MLIAProject/CLAM/env.yml\n",
    "!conda install -n clam_latest -c conda-forge openslide\n",
    "!conda install -n clam_latest -c conda-forge openslide-tools libopenslide0 libtiff-dev libjpeg-dev\n",
    "!conda install -n clam_latest -c conda-forge future\n",
    "!conda run -n clam_latest python --version\n",
    "!conda run -n clam_latest pip list\n",
    "\n",
    "!apt-get update\n",
    "!apt-get install -y openslide-tools libopenslide0 libtiff-dev libjpeg-dev"
   ]
  },
  {
   "cell_type": "code",
   "execution_count": null,
   "id": "8fd5feb0",
   "metadata": {},
   "outputs": [],
   "source": [
    "\n",
    "!conda --version\n",
    "!which conda\n",
    "!conda config --show-sources\n",
    "!conda env update -n base -f MLIAProject/CLAM/env.yml\n"
   ]
  },
  {
   "cell_type": "code",
   "execution_count": null,
   "id": "51057077",
   "metadata": {},
   "outputs": [],
   "source": [
    "import os\n",
    "import zipfile\n",
    "\n",
    "# URL for the dataset\n",
    "url = \"https://zenodo.org/records/15547611/files/datasetUnified_PT.zip?download=1\"\n",
    "\n",
    "# Download the file using wget\n",
    "!wget -O /content/Train.zip \"$url\"\n",
    "\n",
    "# Define the extraction path\n",
    "extract_path = '/'\n",
    "\n",
    "# Create the extraction directory if it doesn't exist\n",
    "os.makedirs(extract_path, exist_ok=True)\n",
    "\n",
    "# Extract the ZIP file\n",
    "with zipfile.ZipFile('./Train.zip', 'r') as zip_ref:\n",
    "    zip_ref.extractall(extract_path)\n",
    "\n",
    "# List the contents of the extracted folder\n",
    "extracted_files = os.listdir(extract_path)\n",
    "print(\"Extracted files:\", extracted_files)\n"
   ]
  },
  {
   "cell_type": "code",
   "execution_count": null,
   "id": "80d39199",
   "metadata": {},
   "outputs": [],
   "source": [
    "!MPLBACKEND=Agg conda run -n clam_latest python MLIAProject/CLAM/create_splits_seq.py --task MLIA_Project --seed 1 --k 10"
   ]
  },
  {
   "cell_type": "code",
   "execution_count": null,
   "id": "81c25ebc",
   "metadata": {},
   "outputs": [],
   "source": [
    "!MPLBACKEND=Agg CUDA_VISIBLE_DEVICES=0 conda run -n clam_latest python MLIAProject/CLAM/main.py --drop_out 0.25 --early_stopping --lr 2e-4 --k 10 --exp_code MLIA_CLAM_50 --weighted_sample --bag_loss ce --inst_loss svm --task MLIA_Project --model_type clam_sb --log_data --subtyping --data_root_dir /content/results_features --embed_dim 1024"
   ]
  }
 ],
 "metadata": {
  "language_info": {
   "name": "python"
  }
 },
 "nbformat": 4,
 "nbformat_minor": 5
}
