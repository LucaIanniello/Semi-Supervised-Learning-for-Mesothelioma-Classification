{
 "cells": [
  {
   "cell_type": "code",
   "execution_count": null,
   "metadata": {
    "vscode": {
     "languageId": "plaintext"
    }
   },
   "outputs": [],
   "source": [
    "from pydrive.auth import GoogleAuth\n",
    "from pydrive.drive import GoogleDrive\n",
    "from oauth2client.client import GoogleCredentials\n",
    "import os\n",
    "import matplotlib.pyplot as plt\n",
    "import torch"
   ]
  },
  {
   "cell_type": "code",
   "execution_count": null,
   "metadata": {
    "vscode": {
     "languageId": "plaintext"
    }
   },
   "outputs": [],
   "source": [
    "from google.colab import auth\n",
    "auth.authenticate_user()"
   ]
  },
  {
   "cell_type": "code",
   "execution_count": null,
   "metadata": {
    "vscode": {
     "languageId": "plaintext"
    }
   },
   "outputs": [],
   "source": [
    "!git clone https://github.com/LucaIanniello/MLIAProject.git"
   ]
  },
  {
   "cell_type": "code",
   "execution_count": null,
   "metadata": {
    "vscode": {
     "languageId": "plaintext"
    }
   },
   "outputs": [],
   "source": [
    "\n",
    "!conda --version\n",
    "!which conda\n",
    "!conda config --show-sources\n",
    "!conda env update -n base -f MLIAProject/CLAM/env.yml\n"
   ]
  },
  {
   "cell_type": "code",
   "execution_count": null,
   "metadata": {
    "vscode": {
     "languageId": "plaintext"
    }
   },
   "outputs": [],
   "source": [
    "!pip install -q condacolab\n",
    "import condacolab\n",
    "condacolab.install()\n",
    "\n",
    "!conda env create -f MLIAProject/CLAM/env.yml\n",
    "!conda install -n clam_latest -c conda-forge openslide\n",
    "!conda install -n clam_latest -c conda-forge openslide-tools libopenslide0 libtiff-dev libjpeg-dev\n",
    "!conda install -n clam_latest -c conda-forge future\n",
    "!conda run -n clam_latest python --version\n",
    "!conda run -n clam_latest pip list\n",
    "\n",
    "!apt-get update\n",
    "!apt-get install -y openslide-tools libopenslide0 libtiff-dev libjpeg-dev"
   ]
  },
  {
   "cell_type": "code",
   "execution_count": null,
   "metadata": {
    "vscode": {
     "languageId": "plaintext"
    }
   },
   "outputs": [],
   "source": [
    "# the config of heatmap needs the original WSI (about 10 min to download)\n",
    "\n",
    "# Autenticazione “di servizio” fornita da Colab\n",
    "gauth = GoogleAuth()\n",
    "gauth.credentials = GoogleCredentials.get_application_default()\n",
    "drive = GoogleDrive(gauth)\n",
    "\n",
    "folder_id = '1gtE_lNw4MYiarzIu4qVAo-uu6aSzxS1d'\n",
    "os.makedirs('/content/ndpi_files', exist_ok=True)\n",
    "\n",
    "# Elenca e scarica tutti i file nella cartella\n",
    "file_list = drive.ListFile(\n",
    "    {'q': f\"'{folder_id}' in parents and trashed=false\"}\n",
    ").GetList()\n",
    "\n",
    "# 1) Definisci gli array\n",
    "B = [\n",
    "    \"M-1.ndpi\",\n",
    "    \n",
    "    \"M-104.ndpi\",\"M-105.ndpi\",\"M-108.ndpi\",\n",
    "    \"M-112.ndpi\",\"M-121.ndpi\",\"M-24.ndpi\",\"M-30.ndpi\",\n",
    "    \"M-32.ndpi\",\"M-36.ndpi\"\n",
    "    \n",
    "]\n",
    "E = [\n",
    "    \"M-10.ndpi\",\n",
    "    \n",
    "    \"M-100.ndpi\",\"M-102.ndpi\",\"M-103.ndpi\",\n",
    "    \"M-107.ndpi\",\"M-109.ndpi\",\"M-11.ndpi\",\"M-110.ndpi\",\n",
    "    \"M-111.ndpi\",\"M-113.ndpi\"\n",
    "    \n",
    "]\n",
    "S = [\n",
    "    \"M-101.ndpi\",\n",
    "    \n",
    "    \"M-114.ndpi\",\"M-65.ndpi\",\"M-86.ndpi\",\"M-87.ndpi\"\n",
    "    \n",
    "]\n",
    "\n",
    "base_dir = '/content/ndpi_files'\n",
    "for sub in ('B','E','S'):\n",
    "    os.makedirs(os.path.join(base_dir, sub), exist_ok=True)\n",
    "\n",
    "for f in file_list:\n",
    "    title = f['title']\n",
    "    if title in B:\n",
    "        dest = os.path.join(base_dir, title)\n",
    "    elif title in E:\n",
    "        dest = os.path.join(base_dir, title)\n",
    "    elif title in S:\n",
    "        dest = os.path.join(base_dir, title)\n",
    "    else:\n",
    "        continue\n",
    "\n",
    "    print(f\"Scarico {title} in {os.path.dirname(dest)} …\")\n",
    "    f.GetContentFile(dest)"
   ]
  },
  {
   "cell_type": "code",
   "execution_count": null,
   "metadata": {
    "vscode": {
     "languageId": "plaintext"
    }
   },
   "outputs": [],
   "source": [
    "########## ALTERNATIVE WAY TO DOWNLOAD ###########\n",
    "########## Should be a more RAM-Friendly Version #\n",
    "\n",
    "!conda install -n clam_latest -c conda-forge gdown\n",
    "\n",
    "\n",
    "import os\n",
    "import gdown # Make sure gdown is installed\n",
    "\n",
    "# Autenticazione “di servizio” fornita da Colab\n",
    "gauth = GoogleAuth()\n",
    "gauth.credentials = GoogleCredentials.get_application_default()\n",
    "drive = GoogleDrive(gauth)\n",
    "\n",
    "folder_id = '1gtE_lNw4MYiarzIu4qVAo-uu6aSzxS1d'\n",
    "os.makedirs('/content/ndpi_files', exist_ok=True)\n",
    "\n",
    "# Elenca e scarica tutti i file nella cartella\n",
    "file_list = drive.ListFile(\n",
    "    {'q': f\"'{folder_id}' in parents and trashed=false\"}\n",
    ").GetList()\n",
    "\n",
    "B = [\n",
    "    \"M-1.ndpi\", \"M-104.ndpi\", \"M-105.ndpi\", \"M-108.ndpi\",\n",
    "    \"M-112.ndpi\", \"M-121.ndpi\", \"M-24.ndpi\", \"M-30.ndpi\",\n",
    "    \"M-32.ndpi\", \"M-36.ndpi\"\n",
    "]\n",
    "E = [\n",
    "    \"M-10.ndpi\", \"M-100.ndpi\", \"M-102.ndpi\", \"M-103.ndpi\",\n",
    "    \"M-107.ndpi\", \"M-109.ndpi\", \"M-11.ndpi\", \"M-110.ndpi\",\n",
    "    \"M-111.ndpi\", \"M-113.ndpi\"\n",
    "]\n",
    "S = [\n",
    "    \"M-101.ndpi\", \"M-114.ndpi\", \"M-65.ndpi\", \"M-86.ndpi\", \"M-87.ndpi\"\n",
    "]\n",
    "\n",
    "base_dir = '/content/ndpi_files'\n",
    "for sub in ('B','E','S'):\n",
    "    os.makedirs(os.path.join(base_dir, sub), exist_ok=True)\n",
    "\n",
    "for f in file_list:\n",
    "    title = f['title']\n",
    "    file_id = f['id']\n",
    "\n",
    "    if title in B or title in E or title in S:\n",
    "        dest_dir = base_dir\n",
    "        if title in B:\n",
    "            dest_dir = os.path.join(base_dir, 'B')\n",
    "        elif title in E:\n",
    "            dest_dir = os.path.join(base_dir, 'E')\n",
    "        elif title in S:\n",
    "            dest_dir = os.path.join(base_dir, 'S')\n",
    "\n",
    "        dest_path = os.path.join(dest_dir, title)\n",
    "\n",
    "        # Check if the file already exists\n",
    "        if os.path.exists(dest_path):\n",
    "            print(f\"File {title} already exists. Skipping download.\")\n",
    "        else:\n",
    "            print(f\"Scarico {title} ({file_id}) in {dest_path} …\")\n",
    "            try:\n",
    "                gdown.download(id=file_id, output=dest_path, quiet=False)\n",
    "            except Exception as e:\n",
    "                print(f\"Errore durante il download di {title}: {e}\")\n",
    "    else:\n",
    "        continue"
   ]
  },
  {
   "cell_type": "code",
   "execution_count": null,
   "metadata": {
    "vscode": {
     "languageId": "plaintext"
    }
   },
   "outputs": [],
   "source": [
    "# the config for the heatmap needs this csv file\n",
    "\n",
    "import csv\n",
    "import os\n",
    "\n",
    "# Combine arrays with their labels\n",
    "data = []\n",
    "for slide in B:\n",
    "    data.append([slide.replace(\".ndpi\", \"\"), \"B\"])\n",
    "for slide in E:\n",
    "    data.append([slide.replace(\".ndpi\", \"\"), \"E\"])\n",
    "for slide in S:\n",
    "    data.append([slide.replace(\".ndpi\", \"\"), \"S\"])\n",
    "\n",
    "# Specify the directory for the output file\n",
    "output_directory = r\"MLIAProject/CLAM/heatmaps/process_lists/\"\n",
    "\n",
    "# Create the directory if it doesn't exist\n",
    "os.makedirs(output_directory, exist_ok=True)\n",
    "\n",
    "# Specify the full path for the output file\n",
    "output_file = os.path.join(\"heatmap_dataset.csv\") # output_directory, \n",
    "\n",
    "# Write to CSV file\n",
    "with open(output_file, mode=\"w\", newline=\"\") as file:\n",
    "    writer = csv.writer(file)\n",
    "    writer.writerow([\"slide_id\", \"label\"])  # Write header\n",
    "    writer.writerows(data)  # Write data\n",
    "\n",
    "print(f\"CSV file '{output_file}' created successfully.\")"
   ]
  },
  {
   "cell_type": "code",
   "execution_count": null,
   "metadata": {
    "vscode": {
     "languageId": "plaintext"
    }
   },
   "outputs": [],
   "source": [
    "######## ONE IMAGE PER CLASS ########\n",
    "\n",
    "import csv\n",
    "import os\n",
    "\n",
    "\n",
    "# Select one image from each list\n",
    "selected_images = []\n",
    "if B:\n",
    "    selected_images.append([B[1].replace(\".ndpi\", \"\"), \"B\"])\n",
    "if E:\n",
    "    selected_images.append([E[6].replace(\".ndpi\", \"\"), \"E\"])\n",
    "if S:\n",
    "    selected_images.append([S[0].replace(\".ndpi\", \"\"), \"S\"])\n",
    "\n",
    "# Specify the output directory and filename for the new CSV\n",
    "output_directory = r\"MLIAProject/CLAM/heatmaps/process_lists/\"\n",
    "output_file = os.path.join(\"single_image_dataset.csv\")\n",
    "\n",
    "# Create the output directory if it doesn't exist\n",
    "os.makedirs(output_directory, exist_ok=True)\n",
    "\n",
    "# Write the data to the CSV file\n",
    "with open(output_file, mode=\"w\", newline=\"\") as file:\n",
    "    writer = csv.writer(file)\n",
    "    writer.writerow([\"slide_id\", \"label\"])  # Write header\n",
    "    writer.writerows(selected_images)  # Write data\n",
    "\n",
    "print(f\"Test CSV file '{output_file}' created successfully with {len(selected_images)} entries.\")"
   ]
  },
  {
   "cell_type": "code",
   "execution_count": null,
   "metadata": {
    "vscode": {
     "languageId": "plaintext"
    }
   },
   "outputs": [],
   "source": [
    "# the config of heatmap needs a checkpoint to initialize the model\n",
    "# (in this case results/MLIA_CLAM_50_s1/s_0_checkpoint.pt)\n",
    "\n",
    "!unzip MLIAProject/train_eval_results/CLAM_results/result_classifier.zip"
   ]
  },
  {
   "cell_type": "code",
   "execution_count": null,
   "metadata": {
    "vscode": {
     "languageId": "plaintext"
    }
   },
   "outputs": [],
   "source": [
    "!MPLBACKEND=Agg CUDA_VISIBLE_DEVICES=0 conda run -n clam_latest python MLIAProject/CLAM/create_heatmaps.py --config MLIAProject/CLAM/heatmaps/configs/MLIAProject_config.yaml\n"
   ]
  }
 ],
 "metadata": {
  "language_info": {
   "name": "python"
  }
 },
 "nbformat": 4,
 "nbformat_minor": 2
}
