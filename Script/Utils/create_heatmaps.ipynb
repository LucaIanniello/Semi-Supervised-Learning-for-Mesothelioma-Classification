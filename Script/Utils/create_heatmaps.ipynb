{
 "cells": [
  {
   "cell_type": "code",
   "execution_count": null,
   "metadata": {},
   "outputs": [],
   "source": [
    "from pydrive.auth import GoogleAuth\n",
    "from pydrive.drive import GoogleDrive\n",
    "from oauth2client.client import GoogleCredentials\n",
    "import os\n",
    "import matplotlib.pyplot as plt\n",
    "import torch"
   ]
  },
  {
   "cell_type": "code",
   "execution_count": null,
   "metadata": {},
   "outputs": [],
   "source": [
    "from google.colab import auth\n",
    "auth.authenticate_user()"
   ]
  },
  {
   "cell_type": "code",
   "execution_count": null,
   "metadata": {},
   "outputs": [],
   "source": [
    "!git clone https://github.com/LucaIanniello/MLIAProject.git"
   ]
  },
  {
   "cell_type": "code",
   "execution_count": null,
   "metadata": {},
   "outputs": [],
   "source": [
    "\n",
    "!conda --version\n",
    "!which conda\n",
    "!conda config --show-sources\n",
    "!conda env update -n base -f MLIAProject/CLAM/env.yml\n"
   ]
  },
  {
   "cell_type": "code",
   "execution_count": null,
   "metadata": {},
   "outputs": [],
   "source": [
    "!pip install -q condacolab\n",
    "import condacolab\n",
    "condacolab.install()\n",
    "\n",
    "!conda env create -f MLIAProject/CLAM/env.yml\n",
    "!conda install -n clam_latest -c conda-forge openslide\n",
    "!conda install -n clam_latest -c conda-forge openslide-tools libopenslide0 libtiff-dev libjpeg-dev\n",
    "!conda install -n clam_latest -c conda-forge future\n",
    "!conda run -n clam_latest python --version\n",
    "!conda run -n clam_latest pip list\n",
    "\n",
    "!apt-get update\n",
    "!apt-get install -y openslide-tools libopenslide0 libtiff-dev libjpeg-dev"
   ]
  },
  {
   "cell_type": "code",
   "execution_count": null,
   "metadata": {},
   "outputs": [],
   "source": [
    "B = [\n",
    "    \"M-1.ndpi\",\n",
    "    \"M-104.ndpi\",\"M-105.ndpi\",\"M-108.ndpi\",\n",
    "    \"M-112.ndpi\",\"M-121.ndpi\",\"M-24.ndpi\",\"M-30.ndpi\",\n",
    "    \"M-32.ndpi\"\n",
    "]\n",
    "E = [\n",
    "    \"M-10.ndpi\",\n",
    "    \"M-100.ndpi\",\"M-103.ndpi\",\"M-109.ndpi\",\"M-11.ndpi\",\"M-110.ndpi\",\n",
    "    \"M-111.ndpi\",\"M-113.ndpi\"\n",
    "]\n",
    "S = [\n",
    "    \"M-101.ndpi\",\n",
    "    \"M-114.ndpi\",\"M-65.ndpi\",\"M-86.ndpi\",\"M-87.ndpi\"\n",
    "]\n",
    "\n",
    "import os\n",
    "import zipfile\n",
    "\n",
    "# URL for the dataset\n",
    "url = \"https://zenodo.org/records/15700269/files/datasetWSI.zip?download=1\"\n",
    "\n",
    "# Download the file using wget\n",
    "!wget -O /content/Train.zip \"$url\"\n",
    "\n",
    "# Define the extraction path\n",
    "extract_path = './'\n",
    "\n",
    "# Create the extraction directory if it doesn't exist\n",
    "os.makedirs(extract_path, exist_ok=True)\n",
    "\n",
    "# Extract the ZIP file\n",
    "with zipfile.ZipFile('./Train.zip', 'r') as zip_ref:\n",
    "    zip_ref.extractall(extract_path)\n",
    "\n",
    "# List the contents of the extracted folder\n",
    "extracted_files = os.listdir(extract_path)\n",
    "print(\"Extracted files:\", extracted_files)\n"
   ]
  },
  {
   "cell_type": "code",
   "execution_count": null,
   "metadata": {},
   "outputs": [],
   "source": [
    "# the config for the heatmap needs this csv file\n",
    "\n",
    "import csv\n",
    "import os\n",
    "\n",
    "# Combine arrays with their labels\n",
    "data = []\n",
    "for slide in B:\n",
    "    data.append([slide.replace(\".ndpi\", \"\"), \"B\"])\n",
    "for slide in E:\n",
    "    data.append([slide.replace(\".ndpi\", \"\"), \"E\"])\n",
    "for slide in S:\n",
    "    data.append([slide.replace(\".ndpi\", \"\"), \"S\"])\n",
    "\n",
    "# Specify the directory for the output file\n",
    "output_directory = r\"MLIAProject/CLAM/heatmaps/process_lists/\"\n",
    "\n",
    "# Create the directory if it doesn't exist\n",
    "os.makedirs(output_directory, exist_ok=True)\n",
    "\n",
    "# Specify the full path for the output file\n",
    "output_file = os.path.join(\"heatmap_dataset.csv\") # output_directory, \n",
    "\n",
    "# Write to CSV file\n",
    "with open(output_file, mode=\"w\", newline=\"\") as file:\n",
    "    writer = csv.writer(file)\n",
    "    writer.writerow([\"slide_id\", \"label\"])  # Write header\n",
    "    writer.writerows(data)  # Write data\n",
    "\n",
    "print(f\"CSV file '{output_file}' created successfully.\")"
   ]
  },
  {
   "cell_type": "code",
   "execution_count": null,
   "metadata": {},
   "outputs": [],
   "source": [
    "# the config of heatmap needs a checkpoint to initialize the model\n",
    "# (in this case results/MLIA_CLAM_50_s1/s_0_checkpoint.pt)\n",
    "\n",
    "!unzip MLIAProject/train_eval_results/CLAM_results/result_classifier.zip"
   ]
  },
  {
   "cell_type": "code",
   "execution_count": null,
   "metadata": {},
   "outputs": [],
   "source": [
    "!MPLBACKEND=Agg CUDA_VISIBLE_DEVICES=0 conda run -n clam_latest python MLIAProject/CLAM/create_heatmaps.py --config MLIAProject/CLAM/heatmaps/configs/MLIAProject_config.yaml\n"
   ]
  }
 ],
 "metadata": {
  "kernelspec": {
   "display_name": "Python 3",
   "language": "python",
   "name": "python3"
  },
  "language_info": {
   "name": "python",
   "version": "3.10.11"
  }
 },
 "nbformat": 4,
 "nbformat_minor": 2
}
