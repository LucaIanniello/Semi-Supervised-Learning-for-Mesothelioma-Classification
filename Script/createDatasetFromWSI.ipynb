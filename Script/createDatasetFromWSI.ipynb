{
  "cells": [
    {
      "cell_type": "code",
      "execution_count": 1,
      "metadata": {
        "colab": {
          "base_uri": "https://localhost:8080/"
        },
        "id": "-YPe4Y5zuW-Y",
        "outputId": "f94debdd-e4f9-42fc-99c5-509471cdcd79"
      },
      "outputs": [
        {
          "output_type": "stream",
          "name": "stderr",
          "text": [
            "WARNING:root:pydrive is deprecated and no longer maintained. We recommend that you migrate your projects to pydrive2, the maintained fork of pydrive\n"
          ]
        }
      ],
      "source": [
        "from pydrive.auth import GoogleAuth\n",
        "from pydrive.drive import GoogleDrive\n",
        "from oauth2client.client import GoogleCredentials\n",
        "import os\n",
        "import matplotlib.pyplot as plt\n",
        "import torch"
      ]
    },
    {
      "cell_type": "code",
      "execution_count": 2,
      "metadata": {
        "id": "IUJIMEMCvT8K"
      },
      "outputs": [],
      "source": [
        "from google.colab import auth\n",
        "auth.authenticate_user()"
      ]
    },
    {
      "cell_type": "code",
      "execution_count": null,
      "metadata": {
        "colab": {
          "base_uri": "https://localhost:8080/"
        },
        "id": "QiLB2iXsqYZf",
        "outputId": "73a7e474-9a65-4af7-b631-f76fd85b9b19"
      },
      "outputs": [
        {
          "output_type": "stream",
          "name": "stdout",
          "text": [
            "Scarico M-87.ndpi in /content/ndpi_files/S …\n",
            "Scarico M-86.ndpi in /content/ndpi_files/S …\n",
            "Scarico M-65.ndpi in /content/ndpi_files/S …\n",
            "Scarico M-32.ndpi in /content/ndpi_files/B …\n",
            "Scarico M-30.ndpi in /content/ndpi_files/B …\n",
            "Scarico M-24.ndpi in /content/ndpi_files/B …\n",
            "Scarico M-121.ndpi in /content/ndpi_files/B …\n",
            "Scarico M-114.ndpi in /content/ndpi_files/S …\n"
          ]
        }
      ],
      "source": [
        "# Autenticazione “di servizio” fornita da Colab\n",
        "gauth = GoogleAuth()\n",
        "gauth.credentials = GoogleCredentials.get_application_default()\n",
        "drive = GoogleDrive(gauth)\n",
        "\n",
        "folder_id = '1gtE_lNw4MYiarzIu4qVAo-uu6aSzxS1d'\n",
        "os.makedirs('/content/ndpi_files', exist_ok=True)\n",
        "\n",
        "# Elenca e scarica tutti i file nella cartella\n",
        "file_list = drive.ListFile(\n",
        "    {'q': f\"'{folder_id}' in parents and trashed=false\"}\n",
        ").GetList()\n",
        "\n",
        "# 1) Definisci gli array\n",
        "B = [\n",
        "    \"M-1.ndpi\",\n",
        "    \"M-104.ndpi\",\"M-105.ndpi\",\"M-108.ndpi\",\n",
        "    \"M-112.ndpi\",\"M-121.ndpi\",\"M-24.ndpi\",\"M-30.ndpi\",\n",
        "    \"M-32.ndpi\",\"M-36.ndpi\"\n",
        "]\n",
        "E = [\n",
        "    \"M-10.ndpi\",\n",
        "    \"M-100.ndpi\",\"M-102.ndpi\",\"M-103.ndpi\",\n",
        "    \"M-107.ndpi\",\"M-109.ndpi\",\"M-11.ndpi\",\"M-110.ndpi\",\n",
        "    \"M-111.ndpi\",\"M-113.ndpi\"\n",
        "]\n",
        "S = [\n",
        "    \"M-101.ndpi\",\n",
        "    \"M-114.ndpi\",\"M-65.ndpi\",\"M-86.ndpi\",\"M-87.ndpi\"\n",
        "]\n",
        "\n",
        "base_dir = '/content/ndpi_files'\n",
        "for sub in ('B','E','S'):\n",
        "    os.makedirs(os.path.join(base_dir, sub), exist_ok=True)\n",
        "\n",
        "for f in file_list:\n",
        "    title = f['title']\n",
        "    if title in B:\n",
        "        dest = os.path.join(base_dir, 'B', title)\n",
        "    elif title in E:\n",
        "        dest = os.path.join(base_dir, 'E', title)\n",
        "    elif title in S:\n",
        "        dest = os.path.join(base_dir, 'S', title)\n",
        "    else:\n",
        "        continue\n",
        "\n",
        "    print(f\"Scarico {title} in {os.path.dirname(dest)} …\")\n",
        "    f.GetContentFile(dest)"
      ]
    },
    {
      "cell_type": "code",
      "execution_count": null,
      "metadata": {
        "id": "cSur0bjWrJlR"
      },
      "outputs": [],
      "source": [
        "!pip install openslide-python openslide-bin\n",
        "import openslide\n",
        "\n",
        "import glob\n",
        "\n",
        "ndpi_path_b = glob.glob('/content/ndpi_files/B/*.ndpi')[0]\n",
        "slide_b = openslide.OpenSlide(ndpi_path_b)\n",
        "ndpi_path_e = glob.glob('/content/ndpi_files/E/*.ndpi')[0]\n",
        "slide_e = openslide.OpenSlide(ndpi_path_e)\n",
        "ndpi_path_s = glob.glob('/content/ndpi_files/S/*.ndpi')[0]\n",
        "slide_s = openslide.OpenSlide(ndpi_path_s)\n",
        "\n",
        "print(\"Dimensione B livello 0:\", slide_b.level_dimensions[0])\n",
        "print(\"Dimensione E livello 0:\", slide_e.level_dimensions[0])\n",
        "print(\"Dimensione S livello 0:\", slide_s.level_dimensions[0])\n",
        "\n"
      ]
    },
    {
      "cell_type": "code",
      "execution_count": null,
      "metadata": {
        "id": "IT4pdsRnrrPY"
      },
      "outputs": [],
      "source": [
        "# Crea una miniatura con lato massimo 1024px\n",
        "thumb = slide_b.get_thumbnail((1024, 1024))\n",
        "plt.figure(figsize=(6,6))\n",
        "plt.imshow(thumb)\n",
        "plt.axis('off')\n",
        "plt.title('Thumbnail livello 0 → ridotta a 1024×1024')\n",
        "plt.show()\n"
      ]
    },
    {
      "cell_type": "code",
      "execution_count": null,
      "metadata": {
        "id": "FX2Jy8nB7jND"
      },
      "outputs": [],
      "source": [
        "!git clone https://github.com/LucaIanniello/MLIAProject.git"
      ]
    },
    {
      "cell_type": "code",
      "execution_count": null,
      "metadata": {
        "id": "DEFpfboUHErQ"
      },
      "outputs": [],
      "source": [
        "!pip install -q condacolab\n",
        "import condacolab\n",
        "condacolab.install()\n",
        "\n",
        "!conda env create -f MLIAProject/CLAM/env.yml\n",
        "!conda install -n clam_latest -c conda-forge openslide\n",
        "!conda install -n clam_latest -c conda-forge openslide-tools libopenslide0 libtiff-dev libjpeg-dev\n",
        "!conda run -n clam_latest python --version\n",
        "!conda run -n clam_latest pip list\n",
        "\n",
        "!apt-get update\n",
        "!apt-get install -y openslide-tools libopenslide0 libtiff-dev libjpeg-dev"
      ]
    },
    {
      "cell_type": "code",
      "execution_count": null,
      "metadata": {
        "id": "YiIrRv9uJY2k"
      },
      "outputs": [],
      "source": [
        "\n",
        "!conda --version\n",
        "!which conda\n",
        "!conda config --show-sources\n",
        "!conda env update -n base -f MLIAProject/CLAM/env.yml\n"
      ]
    },
    {
      "cell_type": "code",
      "execution_count": null,
      "metadata": {
        "id": "GdM76znJicRl"
      },
      "outputs": [],
      "source": [
        "!cp -r MLIAProject/presets ."
      ]
    },
    {
      "cell_type": "code",
      "execution_count": null,
      "metadata": {
        "id": "Zk4RA9XficRm"
      },
      "outputs": [],
      "source": [
        "!MPLBACKEND=Agg conda run -n clam_latest python MLIAProject/CLAM/create_patches_fp.py \\\n",
        "    --source ndpi_files/B/ \\\n",
        "    --save_dir results/RESULTS_DIRECTORY_12_B \\\n",
        "    --patch_size 256 \\\n",
        "    --seg \\\n",
        "    --patch \\\n",
        "    --stitch \\\n",
        "    --preset process_list_edited_th12.csv\n",
        "\n"
      ]
    },
    {
      "cell_type": "code",
      "source": [
        "!MPLBACKEND=Agg conda run -n clam_latest python MLIAProject/CLAM/create_patches_fp.py \\\n",
        "    --source ndpi_files/E/ \\\n",
        "    --save_dir results/RESULTS_DIRECTORY_12_E \\\n",
        "    --patch_size 256 \\\n",
        "    --seg \\\n",
        "    --patch \\\n",
        "    --stitch \\\n",
        "    --preset process_list_edited_th12.csv\n",
        "\n"
      ],
      "metadata": {
        "id": "0zGOlN_sFdUk"
      },
      "execution_count": null,
      "outputs": []
    },
    {
      "cell_type": "code",
      "source": [
        "!MPLBACKEND=Agg conda run -n clam_latest python MLIAProject/CLAM/create_patches_fp.py \\\n",
        "    --source ndpi_files/S/ \\\n",
        "    --save_dir results/RESULTS_DIRECTORY_12_S \\\n",
        "    --patch_size 256 \\\n",
        "    --seg \\\n",
        "    --patch \\\n",
        "    --stitch \\\n",
        "    --preset process_list_edited_th12.csv\n",
        "\n"
      ],
      "metadata": {
        "id": "zO1qachhFd02"
      },
      "execution_count": null,
      "outputs": []
    },
    {
      "cell_type": "code",
      "execution_count": null,
      "metadata": {
        "id": "iZEkNTSMicRm"
      },
      "outputs": [],
      "source": [
        "!MPLBACKEND=Agg conda run -n clam_latest python -u MLIAProject/CLAM/extract_features_fp.py \\\n",
        "    --data_h5_dir \"/content/results/RESULTS_DIRECTORY_12_B/\" \\\n",
        "    --data_slide_dir \"/content/ndpi_files/B/\" \\\n",
        "    --csv_path \"/content/results/RESULTS_DIRECTORY_12_B/process_list_autogen.csv\" \\\n",
        "    --feat_dir results_features/FEATURES_DIRECTORY_12_B \\\n",
        "    --batch_size 128 \\\n",
        "    --slide_ext .ndpi"
      ]
    },
    {
      "cell_type": "code",
      "source": [
        "!MPLBACKEND=Agg conda run -n clam_latest python -u MLIAProject/CLAM/extract_features_fp.py \\\n",
        "    --data_h5_dir \"/content/results/RESULTS_DIRECTORY_12_E/\" \\\n",
        "    --data_slide_dir \"/content/ndpi_files/E/\" \\\n",
        "    --csv_path \"/content/results/RESULTS_DIRECTORY_12_E/process_list_autogen.csv\" \\\n",
        "    --feat_dir results_features/FEATURES_DIRECTORY_12_E \\\n",
        "    --batch_size 128 \\\n",
        "    --slide_ext .ndpi"
      ],
      "metadata": {
        "id": "PNjhbKI2Foo_"
      },
      "execution_count": null,
      "outputs": []
    },
    {
      "cell_type": "code",
      "source": [
        "!MPLBACKEND=Agg conda run -n clam_latest python -u MLIAProject/CLAM/extract_features_fp.py \\\n",
        "    --data_h5_dir \"/content/results/RESULTS_DIRECTORY_12_S/\" \\\n",
        "    --data_slide_dir \"/content/ndpi_files/S/\" \\\n",
        "    --csv_path \"/content/results/RESULTS_DIRECTORY_12_S/process_list_autogen.csv\" \\\n",
        "    --feat_dir results_features/FEATURES_DIRECTORY_12_S \\\n",
        "    --batch_size 128 \\\n",
        "    --slide_ext .ndpi"
      ],
      "metadata": {
        "id": "jfA8jsFuFo8C"
      },
      "execution_count": null,
      "outputs": []
    },
    {
      "cell_type": "code",
      "source": [
        "import h5py\n",
        "\n",
        "data = torch.load('results_features/FEATURES_DIRECTORY_12_B/pt_files/M-1.pt')\n",
        "# Sostituisci 'nome_file.h5' con il percorso del tuo file .h5\n",
        "with h5py.File('/content/results/RESULTS_DIRECTORY_12_B/patches/M-1.h5', 'r') as f:\n",
        "    n_patches = f['coords'].shape[0]  # oppure f['coords'].shape[0]\n",
        "    print(f\"Numero di patch: {n_patches}\")\n",
        "\n",
        "print(type(data))\n",
        "print(len(data))  # se è una lista\n",
        "print(data.shape) # se è un tensore\n",
        "print(data[:5])  # se è una lista o un tensore\n"
      ],
      "metadata": {
        "id": "G_4lnt7R63hu"
      },
      "execution_count": null,
      "outputs": []
    },
    {
      "cell_type": "code",
      "source": [
        "import h5py\n",
        "\n",
        "data = torch.load('results_features/FEATURES_DIRECTORY_12_E/pt_files/M-10.pt')\n",
        "# Sostituisci 'nome_file.h5' con il percorso del tuo file .h5\n",
        "with h5py.File('/content/results/RESULTS_DIRECTORY_12_E/patches/M-10.h5', 'r') as f:\n",
        "    n_patches = f['coords'].shape[0]  # oppure f['coords'].shape[0]\n",
        "    print(f\"Numero di patch: {n_patches}\")\n",
        "\n",
        "\n",
        "print(type(data))\n",
        "print(len(data))  # se è una lista\n",
        "print(data.shape) # se è un tensore\n",
        "print(data[:5])  # se è una lista o un tensore"
      ],
      "metadata": {
        "id": "Yd7D_srjGDiW"
      },
      "execution_count": null,
      "outputs": []
    },
    {
      "cell_type": "code",
      "source": [
        "import h5py\n",
        "\n",
        "data = torch.load('results_features/FEATURES_DIRECTORY_12_S/pt_files/M-101.pt')\n",
        "# Sostituisci 'nome_file.h5' con il percorso del tuo file .h5\n",
        "with h5py.File('/content/results/RESULTS_DIRECTORY_12_S/patches/M-101.h5', 'r') as f:\n",
        "    n_patches = f['coords'].shape[0]  # oppure f['coords'].shape[0]\n",
        "    print(f\"Numero di patch: {n_patches}\")\n",
        "\n",
        "print(type(data))\n",
        "print(len(data))  # se è una lista\n",
        "print(data.shape) # se è un tensore\n",
        "print(data[:5])  # se è una lista o un tensore"
      ],
      "metadata": {
        "id": "HrtdpQ-RGEYt"
      },
      "execution_count": null,
      "outputs": []
    }
  ],
  "metadata": {
    "accelerator": "GPU",
    "colab": {
      "gpuType": "T4",
      "provenance": []
    },
    "kernelspec": {
      "display_name": "Python 3",
      "name": "python3"
    },
    "language_info": {
      "name": "python",
      "version": "3.10.16"
    }
  },
  "nbformat": 4,
  "nbformat_minor": 0
}