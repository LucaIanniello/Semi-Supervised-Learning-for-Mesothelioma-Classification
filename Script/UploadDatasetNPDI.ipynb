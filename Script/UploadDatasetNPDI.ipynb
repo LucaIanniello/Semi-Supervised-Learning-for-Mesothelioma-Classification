{
  "cells": [
    {
      "cell_type": "code",
      "execution_count": 1,
      "metadata": {
        "id": "-YPe4Y5zuW-Y",
        "colab": {
          "base_uri": "https://localhost:8080/"
        },
        "outputId": "1431b624-6843-431a-94c6-5af94a9817c5"
      },
      "outputs": [
        {
          "output_type": "stream",
          "name": "stderr",
          "text": [
            "WARNING:root:pydrive is deprecated and no longer maintained. We recommend that you migrate your projects to pydrive2, the maintained fork of pydrive\n"
          ]
        }
      ],
      "source": [
        "from pydrive.auth import GoogleAuth\n",
        "from pydrive.drive import GoogleDrive\n",
        "from oauth2client.client import GoogleCredentials\n",
        "import os\n",
        "import matplotlib.pyplot as plt\n",
        "import torch"
      ]
    },
    {
      "cell_type": "code",
      "source": [
        "B = [\n",
        "    \"M-1.ndpi\",\n",
        "    \"M-104.ndpi\",\"M-105.ndpi\",\"M-108.ndpi\",\n",
        "    \"M-112.ndpi\",\"M-121.ndpi\",\"M-24.ndpi\",\"M-30.ndpi\",\n",
        "    \"M-32.ndpi\"\n",
        "]\n",
        "E = [\n",
        "    \"M-10.ndpi\",\n",
        "    \"M-100.ndpi\",\"M-103.ndpi\",\"M-109.ndpi\",\"M-11.ndpi\",\"M-110.ndpi\",\n",
        "    \"M-111.ndpi\",\"M-113.ndpi\"\n",
        "]\n",
        "S = [\n",
        "    \"M-101.ndpi\",\n",
        "    \"M-114.ndpi\",\"M-65.ndpi\",\"M-86.ndpi\",\"M-87.ndpi\"\n",
        "]"
      ],
      "metadata": {
        "id": "cv-ph18pYBfX"
      },
      "execution_count": 7,
      "outputs": []
    },
    {
      "cell_type": "code",
      "execution_count": 3,
      "metadata": {
        "id": "IUJIMEMCvT8K"
      },
      "outputs": [],
      "source": [
        "from google.colab import auth\n",
        "auth.authenticate_user()"
      ]
    },
    {
      "cell_type": "code",
      "source": [
        "# Autenticazione con scope più ampi\n",
        "from pydrive.auth import GoogleAuth\n",
        "from pydrive.drive import GoogleDrive\n",
        "from google.colab import auth\n",
        "from oauth2client.client import GoogleCredentials\n",
        "import os\n",
        "import time\n",
        "\n",
        "# Autenticazione migliorata\n",
        "auth.authenticate_user()\n",
        "gauth = GoogleAuth()\n",
        "gauth.credentials = GoogleCredentials.get_application_default()\n",
        "drive = GoogleDrive(gauth)\n",
        "\n",
        "folder_id = '1gtE_lNw4MYiarzIu4qVAo-uu6aSzxS1d'\n",
        "os.makedirs('/content/ndpi_files', exist_ok=True)\n",
        "\n",
        "\n",
        "\n",
        "base_dir = '/content/ndpi_files'\n",
        "for sub in ('B','E','S'):\n",
        "    os.makedirs(os.path.join(base_dir, sub), exist_ok=True)\n",
        "\n",
        "# Lista file con gestione errori\n",
        "try:\n",
        "    file_list = drive.ListFile({\n",
        "        'q': f\"'{folder_id}' in parents and trashed=false\",\n",
        "        'orderBy': 'title'\n",
        "    }).GetList()\n",
        "except Exception as e:\n",
        "    print(f\"Errore nel listare i file: {e}\")\n",
        "    exit()\n",
        "\n",
        "# Crea dizionario per mappare i file\n",
        "file_dict = {f['title']: f for f in file_list}\n",
        "order_map = {'B': B, 'E': E, 'S': S}\n",
        "\n",
        "# Download con retry e gestione errori\n",
        "def download_with_retry(file_obj, dest_path, max_retries=100):\n",
        "    for attempt in range(max_retries):\n",
        "        try:\n",
        "            print(f\"Tentativo {attempt + 1} di download per {file_obj['title']}\")\n",
        "            file_obj.GetContentFile(dest_path)\n",
        "            return True\n",
        "        except Exception as e:\n",
        "            print(f\"Errore tentativo {attempt + 1}: {e}\")\n",
        "            if attempt < max_retries - 1:\n",
        "                time.sleep(2 ** attempt)  # Exponential backoff\n",
        "            else:\n",
        "                print(f\"Fallito download di {file_obj['title']} dopo {max_retries} tentativi\")\n",
        "                return False\n",
        "\n",
        "for category, file_names in order_map.items():\n",
        "    for file_name in file_names:\n",
        "        if file_name in file_dict:\n",
        "            f = file_dict[file_name]\n",
        "            dest = os.path.join(base_dir, category, file_name)\n",
        "            print(f\"Scarico {file_name} in {category} …\")\n",
        "\n",
        "            # Verifica permessi del file\n",
        "            try:\n",
        "                permissions = f.GetPermissions()\n",
        "                print(f\"Permessi per {file_name}: {len(permissions)} permessi trovati\")\n",
        "            except:\n",
        "                print(f\"Impossibile verificare permessi per {file_name}\")\n",
        "\n",
        "            download_with_retry(f, dest)"
      ],
      "metadata": {
        "colab": {
          "base_uri": "https://localhost:8080/"
        },
        "id": "SY4yPmwYJ4kY",
        "outputId": "8581c602-d6ec-429d-b858-18af0195243c"
      },
      "execution_count": 4,
      "outputs": [
        {
          "output_type": "stream",
          "name": "stdout",
          "text": [
            "Scarico M-87.ndpi in S …\n",
            "Permessi per M-87.ndpi: 2 permessi trovati\n",
            "Tentativo 1 di download per M-87.ndpi\n"
          ]
        }
      ]
    },
    {
      "cell_type": "code",
      "source": [
        "dataset_csv = []\n",
        "for i in range(len(B)):\n",
        "    v = B[i].split('.')[0]\n",
        "    dataset_csv.append([v,v,'B'])\n",
        "for i in range(len(S)):\n",
        "    v = S[i].split('.')[0]\n",
        "    dataset_csv.append([v,v,'S'])\n",
        "for i in range(len(E)):\n",
        "    v = E[i].split('.')[0]\n",
        "    dataset_csv.append([v,v,'E'])"
      ],
      "metadata": {
        "id": "_AW0TPRgNU-9"
      },
      "execution_count": 8,
      "outputs": []
    },
    {
      "cell_type": "code",
      "source": [
        "print(dataset_csv)\n",
        "print(len(dataset_csv))"
      ],
      "metadata": {
        "id": "Tgv6ut9zNXNu",
        "colab": {
          "base_uri": "https://localhost:8080/"
        },
        "outputId": "ea70e550-b9d2-4958-e28d-270c000f87d0"
      },
      "execution_count": 9,
      "outputs": [
        {
          "output_type": "stream",
          "name": "stdout",
          "text": [
            "[['M-1', 'M-1', 'B'], ['M-104', 'M-104', 'B'], ['M-105', 'M-105', 'B'], ['M-108', 'M-108', 'B'], ['M-112', 'M-112', 'B'], ['M-121', 'M-121', 'B'], ['M-24', 'M-24', 'B'], ['M-30', 'M-30', 'B'], ['M-32', 'M-32', 'B'], ['M-101', 'M-101', 'S'], ['M-114', 'M-114', 'S'], ['M-65', 'M-65', 'S'], ['M-86', 'M-86', 'S'], ['M-87', 'M-87', 'S'], ['M-10', 'M-10', 'E'], ['M-100', 'M-100', 'E'], ['M-103', 'M-103', 'E'], ['M-109', 'M-109', 'E'], ['M-11', 'M-11', 'E'], ['M-110', 'M-110', 'E'], ['M-111', 'M-111', 'E'], ['M-113', 'M-113', 'E']]\n",
            "22\n"
          ]
        }
      ]
    },
    {
      "cell_type": "code",
      "source": [
        "import csv\n",
        "# Nome del file CSV\n",
        "file_csv = 'ndpi_files/dataset.csv'\n",
        "\n",
        "# Scrittura del file CSV\n",
        "with open(file_csv, mode='w', newline='') as file:\n",
        "    writer = csv.writer(file)\n",
        "    # Scrivere l'intestazione\n",
        "    writer.writerow(['case_id', 'slide_id', 'label'])\n",
        "    # Scrivere i dati\n",
        "    writer.writerows(dataset_csv)\n",
        "\n",
        "print(f\"File CSV salvato: {file_csv}\")"
      ],
      "metadata": {
        "id": "JipRnAHeNYmp",
        "colab": {
          "base_uri": "https://localhost:8080/"
        },
        "outputId": "b1319e84-10cf-4530-bf1c-7f9370b10329"
      },
      "execution_count": 10,
      "outputs": [
        {
          "output_type": "stream",
          "name": "stdout",
          "text": [
            "File CSV salvato: ndpi_files/dataset.csv\n"
          ]
        }
      ]
    },
    {
      "cell_type": "code",
      "execution_count": null,
      "metadata": {
        "id": "cSur0bjWrJlR"
      },
      "outputs": [],
      "source": [
        "!pip install openslide-python openslide-bin\n",
        "import openslide\n",
        "\n",
        "import glob\n",
        "\n",
        "ndpi_path_b = glob.glob('/content/ndpi_files/B/*.ndpi')[0]\n",
        "print(len(ndpi_path_b))\n",
        "slide_b = openslide.OpenSlide(ndpi_path_b)\n",
        "ndpi_path_e = glob.glob('/content/ndpi_files/E/*.ndpi')[0]\n",
        "print(len(ndpi_path_e))\n",
        "slide_e = openslide.OpenSlide(ndpi_path_e)\n",
        "ndpi_path_s = glob.glob('/content/ndpi_files/S/*.ndpi')[0]\n",
        "print(len(ndpi_path_s))\n",
        "slide_s = openslide.OpenSlide(ndpi_path_s)\n",
        "\n",
        "print(\"Dimensione B livello 0:\", slide_b.level_dimensions[0])\n",
        "print(\"Dimensione E livello 0:\", slide_e.level_dimensions[0])\n",
        "print(\"Dimensione S livello 0:\", slide_s.level_dimensions[0])\n",
        "\n"
      ]
    },
    {
      "cell_type": "code",
      "source": [
        "# Crea un archivio ZIP della cartella\n",
        "import zipfile # Import the zipfile module\n",
        "\n",
        "def create_zip_archive(folder_path, zip_name=None):\n",
        "    \"\"\"\n",
        "    Crea un archivio ZIP di una cartella mantenendo la struttura\n",
        "    \"\"\"\n",
        "    if zip_name is None:\n",
        "        zip_name = f\"{os.path.basename(folder_path)}.zip\"\n",
        "\n",
        "    print(f\"🗜️ Creando archivio ZIP: {zip_name}\")\n",
        "\n",
        "    with zipfile.ZipFile(zip_name, 'w', zipfile.ZIP_DEFLATED) as zipf:\n",
        "        for root, dirs, files in os.walk(folder_path):\n",
        "            for file in files:\n",
        "                file_path = os.path.join(root, file)\n",
        "                # Mantiene la struttura delle cartelle nell'archivio\n",
        "                arc_name = os.path.relpath(file_path, os.path.dirname(folder_path))\n",
        "                zipf.write(file_path, arc_name)\n",
        "                print(f\"  📁 Aggiunto: {arc_name}\")\n",
        "\n",
        "    # Mostra dimensione dell'archivio\n",
        "    zip_size = os.path.getsize(zip_name)\n",
        "    print(f\"✅ Archivio creato: {zip_name} ({zip_size/1024/1024:.2f} MB)\")\n",
        "    return zip_name"
      ],
      "metadata": {
        "id": "wrqEfFWbEBf8"
      },
      "execution_count": 15,
      "outputs": []
    },
    {
      "cell_type": "code",
      "source": [
        "# Percorso della cartella da caricare\n",
        "folder_to_upload = '/content/ndpi_files'  # Cambia con il percorso della tua cartella\n",
        "zip_filename = 'datasetWSI.zip'  # Nome dell'archivio\n",
        "zip_path = create_zip_archive(folder_to_upload, zip_filename)\n"
      ],
      "metadata": {
        "id": "olB5jSSBEELx",
        "colab": {
          "base_uri": "https://localhost:8080/"
        },
        "outputId": "154e9931-f286-4289-b6db-e157f7ae5c05"
      },
      "execution_count": 16,
      "outputs": [
        {
          "output_type": "stream",
          "name": "stdout",
          "text": [
            "🗜️ Creando archivio ZIP: datasetWSI.zip\n",
            "  📁 Aggiunto: ndpi_files/dataset.csv\n",
            "  📁 Aggiunto: ndpi_files/E/M-100.ndpi\n",
            "  📁 Aggiunto: ndpi_files/E/M-103.ndpi\n",
            "  📁 Aggiunto: ndpi_files/E/M-10.ndpi\n",
            "  📁 Aggiunto: ndpi_files/E/M-109.ndpi\n",
            "  📁 Aggiunto: ndpi_files/E/M-113.ndpi\n",
            "  📁 Aggiunto: ndpi_files/E/M-11.ndpi\n",
            "  📁 Aggiunto: ndpi_files/E/M-111.ndpi\n",
            "  📁 Aggiunto: ndpi_files/E/M-110.ndpi\n",
            "  📁 Aggiunto: ndpi_files/S/M-86.ndpi\n",
            "  📁 Aggiunto: ndpi_files/S/M-101.ndpi\n",
            "  📁 Aggiunto: ndpi_files/S/M-65.ndpi\n",
            "  📁 Aggiunto: ndpi_files/S/M-87.ndpi\n",
            "  📁 Aggiunto: ndpi_files/S/M-114.ndpi\n",
            "  📁 Aggiunto: ndpi_files/B/M-1.ndpi\n",
            "  📁 Aggiunto: ndpi_files/B/M-24.ndpi\n",
            "  📁 Aggiunto: ndpi_files/B/M-30.ndpi\n",
            "  📁 Aggiunto: ndpi_files/B/M-32.ndpi\n",
            "  📁 Aggiunto: ndpi_files/B/M-112.ndpi\n",
            "  📁 Aggiunto: ndpi_files/B/M-104.ndpi\n",
            "  📁 Aggiunto: ndpi_files/B/M-121.ndpi\n",
            "  📁 Aggiunto: ndpi_files/B/M-105.ndpi\n",
            "  📁 Aggiunto: ndpi_files/B/M-108.ndpi\n",
            "✅ Archivio creato: datasetWSI.zip (11426.99 MB)\n"
          ]
        }
      ]
    },
    {
      "cell_type": "code",
      "source": [
        "import torch\n",
        "import requests\n",
        "import json\n",
        "import os\n",
        "\n",
        "# Token di accesso Zenodo (sostituisci con il tuo)\n",
        "ACCESS_TOKEN = 'uVSb7icJqT9efPM71KYgviJ50r7eML9ynei2q7hDkedVlFrf8fBsr9lFaJ3O'\n",
        "\n",
        "# Crea una nuova deposizione\n",
        "def create_deposition():\n",
        "    url = 'https://zenodo.org/api/deposit/depositions'\n",
        "    headers = {\"Content-Type\": \"application/json\"}\n",
        "    params = {'access_token': ACCESS_TOKEN}\n",
        "\n",
        "    data = {\n",
        "        'metadata': {\n",
        "            'title': 'DatasetMLiA-Completo-WSI',\n",
        "            'upload_type': 'dataset',\n",
        "            'description': 'Dataset WSI',\n",
        "            'creators': [{'name': 'Raf-Tony-Luca'}]\n",
        "        }\n",
        "    }\n",
        "\n",
        "    r = requests.post(url, params=params, data=json.dumps(data), headers=headers)\n",
        "    return r.json()\n",
        "\n",
        "# Carica il file\n",
        "def upload_file(deposition_id, file_path):\n",
        "    # Get bucket URL\n",
        "    url = f'https://zenodo.org/api/deposit/depositions/{deposition_id}'\n",
        "    params = {'access_token': ACCESS_TOKEN}\n",
        "    r = requests.get(url, params=params)\n",
        "    bucket_url = r.json()[\"links\"][\"bucket\"]\n",
        "\n",
        "    # Upload file\n",
        "    filename = os.path.basename(file_path)\n",
        "    with open(file_path, \"rb\") as fp:\n",
        "        r = requests.put(f\"{bucket_url}/{filename}\",\n",
        "                        data=fp,\n",
        "                        params=params)\n",
        "    return r.json()\n",
        "\n",
        "# Pubblica il dataset\n",
        "def publish_deposition(deposition_id):\n",
        "    url = f'https://zenodo.org/api/deposit/depositions/{deposition_id}/actions/publish'\n",
        "    params = {'access_token': ACCESS_TOKEN}\n",
        "    r = requests.post(url, params=params)\n",
        "    return r.json()\n",
        "\n",
        "# Esegui l'upload\n",
        "print(\"Creando deposizione...\")\n",
        "deposition = create_deposition()\n",
        "deposition_id = deposition['id']\n",
        "\n",
        "print(f\"Caricando file... (ID: {deposition_id})\")\n",
        "upload_result = upload_file(deposition_id, zip_filename)\n",
        "\n",
        "print(\"Pubblicando dataset...\")\n",
        "publication = publish_deposition(deposition_id)\n",
        "\n",
        "print(f\"Dataset pubblicato! DOI: {publication['doi']}\")\n",
        "print(f\"URL: {publication['links']['record_html']}\")\n"
      ],
      "metadata": {
        "id": "9euGGbhLD1ob",
        "colab": {
          "base_uri": "https://localhost:8080/"
        },
        "outputId": "2c13b1c2-1aa7-4d68-f985-7d5e5789981e"
      },
      "execution_count": 17,
      "outputs": [
        {
          "output_type": "stream",
          "name": "stdout",
          "text": [
            "Creando deposizione...\n",
            "Caricando file... (ID: 15700269)\n",
            "Pubblicando dataset...\n",
            "Dataset pubblicato! DOI: 10.5281/zenodo.15700269\n",
            "URL: https://zenodo.org/record/15700269\n"
          ]
        }
      ]
    }
  ],
  "metadata": {
    "colab": {
      "provenance": []
    },
    "kernelspec": {
      "display_name": "Python 3",
      "name": "python3"
    },
    "language_info": {
      "name": "python",
      "version": "3.10.16"
    }
  },
  "nbformat": 4,
  "nbformat_minor": 0
}