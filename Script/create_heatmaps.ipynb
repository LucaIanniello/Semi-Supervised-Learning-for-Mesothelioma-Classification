{
 "cells": [
  {
   "cell_type": "code",
   "execution_count": null,
   "metadata": {
    "vscode": {
     "languageId": "plaintext"
    }
   },
   "outputs": [],
   "source": [
    "from pydrive.auth import GoogleAuth\n",
    "from pydrive.drive import GoogleDrive\n",
    "from oauth2client.client import GoogleCredentials\n",
    "import os\n",
    "import matplotlib.pyplot as plt\n",
    "import torch"
   ]
  },
  {
   "cell_type": "code",
   "execution_count": null,
   "metadata": {
    "vscode": {
     "languageId": "plaintext"
    }
   },
   "outputs": [],
   "source": [
    "from google.colab import auth\n",
    "auth.authenticate_user()"
   ]
  },
  {
   "cell_type": "code",
   "execution_count": null,
   "metadata": {
    "vscode": {
     "languageId": "plaintext"
    }
   },
   "outputs": [],
   "source": [
    "# the config of heatmap needs the original WSI\n",
    "\n",
    "# Autenticazione “di servizio” fornita da Colab\n",
    "gauth = GoogleAuth()\n",
    "gauth.credentials = GoogleCredentials.get_application_default()\n",
    "drive = GoogleDrive(gauth)\n",
    "\n",
    "folder_id = '1gtE_lNw4MYiarzIu4qVAo-uu6aSzxS1d'\n",
    "os.makedirs('/content/ndpi_files', exist_ok=True)\n",
    "\n",
    "# Elenca e scarica tutti i file nella cartella\n",
    "file_list = drive.ListFile(\n",
    "    {'q': f\"'{folder_id}' in parents and trashed=false\"}\n",
    ").GetList()\n",
    "\n",
    "# 1) Definisci gli array\n",
    "B = [\n",
    "    \"M-1.ndpi\",\n",
    "    '''\n",
    "    \"M-104.ndpi\",\"M-105.ndpi\",\"M-108.ndpi\",\n",
    "    \"M-112.ndpi\",\"M-121.ndpi\",\"M-24.ndpi\",\"M-30.ndpi\",\n",
    "    \"M-32.ndpi\",\"M-36.ndpi\"\n",
    "    '''\n",
    "]\n",
    "E = [\n",
    "    \"M-10.ndpi\",\n",
    "    '''\n",
    "    \"M-100.ndpi\",\"M-102.ndpi\",\"M-103.ndpi\",\n",
    "    \"M-107.ndpi\",\"M-109.ndpi\",\"M-11.ndpi\",\"M-110.ndpi\",\n",
    "    \"M-111.ndpi\",\"M-113.ndpi\"\n",
    "    '''\n",
    "]\n",
    "S = [\n",
    "    \"M-101.ndpi\",\n",
    "    '''\n",
    "    \"M-114.ndpi\",\"M-65.ndpi\",\"M-86.ndpi\",\"M-87.ndpi\"\n",
    "    '''\n",
    "]\n",
    "\n",
    "base_dir = '/content/ndpi_files'\n",
    "for sub in ('B','E','S'):\n",
    "    os.makedirs(os.path.join(base_dir, sub), exist_ok=True)\n",
    "\n",
    "for f in file_list:\n",
    "    title = f['title']\n",
    "    if title in B:\n",
    "        dest = os.path.join(base_dir, 'B', title)\n",
    "    elif title in E:\n",
    "        dest = os.path.join(base_dir, 'E', title)\n",
    "    elif title in S:\n",
    "        dest = os.path.join(base_dir, 'S', title)\n",
    "    else:\n",
    "        continue\n",
    "\n",
    "    print(f\"Scarico {title} in {os.path.dirname(dest)} …\")\n",
    "    f.GetContentFile(dest)"
   ]
  },
  {
   "cell_type": "code",
   "execution_count": null,
   "metadata": {
    "vscode": {
     "languageId": "plaintext"
    }
   },
   "outputs": [],
   "source": [
    "# the config for the heatmap needs this csv file\n",
    "# Combine arrays with their labels\n",
    "\n",
    "data = []\n",
    "for slide in B:\n",
    "    data.append([slide.replace(\".ndpi\", \"\"), \"B\"])\n",
    "for slide in E:\n",
    "    data.append([slide.replace(\".ndpi\", \"\"), \"E\"])\n",
    "for slide in S:\n",
    "    data.append([slide.replace(\".ndpi\", \"\"), \"S\"])\n",
    "\n",
    "# Specify the full path for the output file\n",
    "output_file = r\"MLIAProject\\CLAM\\heatmaps\\process_lists\\heatmap_dataset.csv\"\n",
    "\n",
    "# Write to CSV file\n",
    "with open(output_file, mode=\"w\", newline=\"\") as file:\n",
    "    writer = csv.writer(file)\n",
    "    writer.writerow([\"slide_id\", \"label\"])  # Write header\n",
    "    writer.writerows(data)  # Write data\n",
    "\n",
    "print(f\"CSV file '{output_file}' created successfully.\")"
   ]
  },
  {
   "cell_type": "code",
   "execution_count": null,
   "metadata": {
    "vscode": {
     "languageId": "plaintext"
    }
   },
   "outputs": [],
   "source": [
    "# the config of heatmap needs a checkpoint to initialize the model\n",
    "# (in this case results/MLIA_CLAM_50_s1/s_0_checkpoint.pt)\n",
    "\n",
    "!zip -r result_classifier.zip 'results/'"
   ]
  },
  {
   "cell_type": "code",
   "execution_count": null,
   "metadata": {
    "vscode": {
     "languageId": "plaintext"
    }
   },
   "outputs": [],
   "source": [
    "# !MPLBACKEND=Agg CUDA_VISIBLE_DEVICES=0 conda run -n clam_latest python MLIAProject/CLAM/create_heatmaps.py --config MLIAProject/CLAM/heatmaps/configs/MLIAProject_config.yaml\n"
   ]
  }
 ],
 "metadata": {
  "language_info": {
   "name": "python"
  }
 },
 "nbformat": 4,
 "nbformat_minor": 2
}
